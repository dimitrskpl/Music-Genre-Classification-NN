{
  "cells": [
    {
      "cell_type": "code",
      "execution_count": 2,
      "metadata": {
        "id": "FsNsJldbS46P"
      },
      "outputs": [],
      "source": [
        "from google.colab import drive\n",
        "import os\n",
        "import numpy as np\n",
        "import matplotlib.pyplot as plt\n",
        "from tabulate import tabulate\n",
        "from sklearn.model_selection import cross_validate\n",
        "import time\n",
        "import torch\n",
        "from torch.utils.data import Dataset, DataLoader\n",
        "from sklearn.preprocessing import LabelEncoder\n",
        "import torch.nn as nn\n",
        "from sklearn.metrics import f1_score, confusion_matrix\n",
        "import seaborn as sns\n",
        "import time\n",
        "import torch.optim as optim\n",
        "import random\n",
        "from torch.optim import lr_scheduler\n",
        "from torch.optim.lr_scheduler import CosineAnnealingLR, OneCycleLR"
      ]
    },
    {
      "cell_type": "markdown",
      "metadata": {
        "id": "ShWgau2bl_Rz"
      },
      "source": [
        "## Read Data"
      ]
    },
    {
      "cell_type": "markdown",
      "metadata": {
        "id": "yvTGmiCH6osh"
      },
      "source": [
        "Define the **DATA_PATH**, where the train, test and val datasets are located"
      ]
    },
    {
      "cell_type": "code",
      "execution_count": 3,
      "metadata": {
        "colab": {
          "base_uri": "https://localhost:8080/"
        },
        "id": "qZ9fKqfUROLm",
        "outputId": "5da9fcb6-9419-4aaa-bb00-44472bb620f7"
      },
      "outputs": [
        {
          "name": "stdout",
          "output_type": "stream",
          "text": [
            "Mounted at /content/drive\n"
          ]
        }
      ],
      "source": [
        "drive.mount('/content/drive')\n",
        "DATA_PATH = \"/content/drive/MyDrive/ML/project_3/music_genre_data_di/\""
      ]
    },
    {
      "cell_type": "code",
      "execution_count": 4,
      "metadata": {
        "id": "zqXKbpO5gDjd"
      },
      "outputs": [],
      "source": [
        "mfs = 'mfccs/'\n",
        "melgs = 'melgrams/'\n",
        "test = 'test/'\n",
        "train = 'train/'\n",
        "val = 'val/'\n",
        "train = 'train/'\n",
        "labels = 'labels.npy'\n",
        "x = 'X.npy'"
      ]
    },
    {
      "cell_type": "markdown",
      "metadata": {
        "id": "CT7ILKBEjn4J"
      },
      "source": [
        "Reproducability"
      ]
    },
    {
      "cell_type": "code",
      "execution_count": 5,
      "metadata": {
        "id": "PCR0KjoHjgEG"
      },
      "outputs": [],
      "source": [
        "seed = 42"
      ]
    },
    {
      "cell_type": "code",
      "execution_count": 7,
      "metadata": {
        "id": "XONRvrupvSnn"
      },
      "outputs": [],
      "source": [
        "def set_seeds(seed):\n",
        "  random.seed(seed)\n",
        "  np.random.seed(seed)\n",
        "  torch.manual_seed(seed)\n",
        "  torch.cuda.manual_seed_all(seed)\n",
        "  torch.backends.cudnn.deterministic = True\n",
        "  torch.backends.cudnn.benchmark = False"
      ]
    },
    {
      "cell_type": "markdown",
      "metadata": {
        "id": "u1O5H-DD7LVL"
      },
      "source": [
        "Load MFCCs and mel-spectograms train, test and val datasets"
      ]
    },
    {
      "cell_type": "code",
      "execution_count": 8,
      "metadata": {
        "id": "DOKH2Lw7UGHu"
      },
      "outputs": [],
      "source": [
        "test_mfs_x = np.load(DATA_PATH + test + mfs + x)\n",
        "test_y = np.load(DATA_PATH + test + mfs + labels)\n",
        "test_melgs_x = np.load(DATA_PATH + test + melgs + x)\n",
        "\n",
        "train_mfs_x = np.load(DATA_PATH + train + mfs + x)\n",
        "train_y = np.load(DATA_PATH + train + mfs + labels)\n",
        "train_melgs_x = np.load(DATA_PATH + train + melgs + x)\n",
        "\n",
        "val_mfs_x = np.load(DATA_PATH + val + mfs + x)\n",
        "val_y = np.load(DATA_PATH + val + mfs + labels)\n",
        "val_melgs_x = np.load(DATA_PATH + val + melgs + x)"
      ]
    },
    {
      "cell_type": "code",
      "execution_count": 9,
      "metadata": {
        "colab": {
          "base_uri": "https://localhost:8080/"
        },
        "id": "RIssvbagg6Ke",
        "outputId": "61448b20-28ae-4b0b-b35d-dfac37ec1626"
      },
      "outputs": [
        {
          "name": "stdout",
          "output_type": "stream",
          "text": [
            "Test data:\n",
            "  mfccs.X.shape: (1376, 26)\n",
            "  melgrams.y.shape: (1376, 21, 128)\n",
            "  mfccs.y.shape: (1376,)\n",
            "Train data:\n",
            "  mfccs.X.shape: (3200, 26)\n",
            "  melgrams.y.shape: (3200, 21, 128)\n",
            "  mfccs.y.shape: (3200,)\n",
            "Validation data:\n",
            "  mfccs.X.shape: (800, 26)\n",
            "  melgrams.y.shape: (800, 21, 128)\n",
            "  mfccs.y.shape: (800,)\n"
          ]
        }
      ],
      "source": [
        "print('Test data:')\n",
        "print(f'  mfccs.X.shape: {test_mfs_x.shape}')\n",
        "print(f'  melgrams.y.shape: {test_melgs_x.shape}')\n",
        "print(f'  mfccs.y.shape: {test_y.shape}')\n",
        "\n",
        "print('Train data:')\n",
        "print(f'  mfccs.X.shape: {train_mfs_x.shape}')\n",
        "print(f'  melgrams.y.shape: {train_melgs_x.shape}')\n",
        "print(f'  mfccs.y.shape: {train_y.shape}')\n",
        "\n",
        "print('Validation data:')\n",
        "print(f'  mfccs.X.shape: {val_mfs_x.shape}')\n",
        "print(f'  melgrams.y.shape: {val_melgs_x.shape}')\n",
        "print(f'  mfccs.y.shape: {val_y.shape}')\n"
      ]
    },
    {
      "cell_type": "markdown",
      "metadata": {
        "id": "UsfpXi-6jMq1"
      },
      "source": [
        "Map string labels to integers"
      ]
    },
    {
      "cell_type": "code",
      "execution_count": 10,
      "metadata": {
        "id": "z0LmP2Kni-Q4"
      },
      "outputs": [],
      "source": [
        "all_labels = np.concatenate((test_y, train_y, val_y))\n",
        "label_encoder = LabelEncoder()\n",
        "label_encoder.fit(all_labels)\n",
        "\n",
        "test_y = label_encoder.transform(test_y)\n",
        "train_y = label_encoder.transform(train_y)\n",
        "val_y = label_encoder.transform(val_y)"
      ]
    },
    {
      "cell_type": "code",
      "execution_count": 11,
      "metadata": {
        "id": "ZwRlDnVtqs15"
      },
      "outputs": [],
      "source": [
        "dist_labels = label_encoder.classes_"
      ]
    },
    {
      "cell_type": "markdown",
      "metadata": {
        "id": "Kyh2pxBODpjm"
      },
      "source": [
        "## Utils"
      ]
    },
    {
      "cell_type": "code",
      "execution_count": 12,
      "metadata": {
        "id": "Kx-hB7xbDgFA"
      },
      "outputs": [],
      "source": [
        "class Dataset(Dataset):\n",
        "    def __init__(self, x_data, y_data):\n",
        "        self.x_data = x_data\n",
        "        self.y_data = y_data\n",
        "\n",
        "    def __getitem__(self, index):\n",
        "        x = self.x_data[index]\n",
        "        y = self.y_data[index]\n",
        "        return torch.tensor(x), torch.tensor(y)\n",
        "\n",
        "    def __len__(self):\n",
        "        return self.x_data.shape[0]"
      ]
    },
    {
      "cell_type": "code",
      "execution_count": 13,
      "metadata": {
        "id": "_KMyyvfsGRBl"
      },
      "outputs": [],
      "source": [
        "def get_accuracy(y_true, y_pred):\n",
        "  y_pred = y_pred.argmax(dim=1)\n",
        "  correct = (y_true == y_pred).float()\n",
        "  accuracy = correct.sum() / len(correct)\n",
        "  return accuracy"
      ]
    },
    {
      "cell_type": "code",
      "execution_count": 14,
      "metadata": {
        "id": "WCRB3f3X6dma"
      },
      "outputs": [],
      "source": [
        "#Plots train_losses, val_losses, train_accuracies, val_accuracies per n_epochs\n",
        "def plot_loss_acc(train_losses, val_losses, train_accuracies, val_accuracies, n_epochs, append_to_tile=\"\"):\n",
        "  plt.style.use(\"ggplot\")\n",
        "  plt.figure(figsize=(6, 4))\n",
        "\n",
        "  plt.plot(np.arange(0, n_epochs), train_losses, label=\"train_loss\")\n",
        "  plt.plot(np.arange(0, n_epochs), val_losses, label=\"val_loss\")\n",
        "  plt.plot(np.arange(0, n_epochs), train_accuracies, label=\"train_acc\")\n",
        "  plt.plot(np.arange(0, n_epochs), val_accuracies, label=\"val_acc\")\n",
        "  plt.title(\"Training Loss and Accuracy\" + append_to_tile)\n",
        "  plt.xlabel(\"Epoch\")\n",
        "  plt.ylabel(\"Loss/Accuracy\")\n",
        "  plt.legend()"
      ]
    },
    {
      "cell_type": "markdown",
      "metadata": {
        "id": "gDeooGz8qOU4"
      },
      "source": [
        "## Ex. 1: Feedforward Neural Network"
      ]
    },
    {
      "cell_type": "code",
      "execution_count": null,
      "metadata": {
        "id": "BAdrXe5vDs9j"
      },
      "outputs": [],
      "source": [
        "test_mfs_dataset = Dataset(test_mfs_x, test_y)\n",
        "train_mfs_dataset = Dataset(train_mfs_x, train_y)\n",
        "val_mfs_dataset = Dataset(val_mfs_x, val_y)"
      ]
    },
    {
      "cell_type": "code",
      "execution_count": null,
      "metadata": {
        "id": "qur18d0ID0Bj"
      },
      "outputs": [],
      "source": [
        "batch_size = 16\n",
        "test_mfs_dataloader = DataLoader(test_mfs_dataset, batch_size=batch_size, shuffle=False)\n",
        "train_mfs_dataloader = DataLoader(train_mfs_dataset, batch_size=batch_size, shuffle=True)\n",
        "val_mfs_dataloader = DataLoader(val_mfs_dataset, batch_size=batch_size, shuffle=True)"
      ]
    },
    {
      "cell_type": "markdown",
      "metadata": {
        "id": "0awgFQnRmFWx"
      },
      "source": [
        "### FFNN Model"
      ]
    },
    {
      "cell_type": "markdown",
      "metadata": {
        "id": "NTjoukgp70It"
      },
      "source": [
        "Fully connected neural nework consisting of 4 levels with neuron numbers input_dim, 128, 32 and output_dim"
      ]
    },
    {
      "cell_type": "code",
      "execution_count": null,
      "metadata": {
        "id": "2R43lYMxjB3S"
      },
      "outputs": [],
      "source": [
        "class FullyConnectedNN(nn.Module):\n",
        "  def __init__(self, input_dim, output_dim):\n",
        "    super(FullyConnectedNN, self).__init__()\n",
        "    self.flatten = nn.Flatten()\n",
        "\n",
        "    self.model = nn.Sequential(\n",
        "        nn.Linear(input_dim, 128),\n",
        "        nn.ReLU(),\n",
        "        nn.Linear(128, 32),\n",
        "        nn.ReLU(),\n",
        "        nn.Linear(32, output_dim),\n",
        "    )\n",
        "\n",
        "  def forward(self, x):\n",
        "    x = self.flatten(x)\n",
        "    return self.model(x)#pred"
      ]
    },
    {
      "cell_type": "markdown",
      "metadata": {
        "id": "tWzZl_LRTd6J"
      },
      "source": [
        "### Train - Evaluate"
      ]
    },
    {
      "cell_type": "code",
      "execution_count": null,
      "metadata": {
        "id": "ROcesZ4CdY4s"
      },
      "outputs": [],
      "source": [
        "def plot_confusion_matrix(confusion_matrix, classes):\n",
        "    plt.figure(figsize=(10, 8))\n",
        "    sns.heatmap(confusion_matrix, annot=True, fmt=\"g\", cmap=\"Blues\", xticklabels=classes, yticklabels=classes)\n",
        "    plt.xlabel(\"Predicted labels\")\n",
        "    plt.ylabel(\"True labels\")\n",
        "    plt.title(\"Confusion Matrix\")\n",
        "    plt.show()"
      ]
    },
    {
      "cell_type": "code",
      "execution_count": null,
      "metadata": {
        "id": "0CjVQGFbsfJv"
      },
      "outputs": [],
      "source": [
        "def get_f1_cf(y_true, y_pred):\n",
        "    y_pred = y_pred.argmax(dim=1).cpu().numpy()\n",
        "    y_true = y_true.cpu().numpy()\n",
        "    f1_weighted = f1_score(y_true, y_pred, average='macro')\n",
        "    cf = confusion_matrix(y_true, y_pred, labels=range(4))\n",
        "    return f1_weighted, cf"
      ]
    },
    {
      "cell_type": "code",
      "execution_count": null,
      "metadata": {
        "id": "MZtGy_9nnRKW"
      },
      "outputs": [],
      "source": [
        "#train the model on the training dataloader (for 1 epoch)\n",
        "#returns average loss and average accuracy\n",
        "def train(model, dataloader, optimizer, criterior):\n",
        "    epoch_loss = 0\n",
        "    epoch_acc = 0\n",
        "\n",
        "    model.train()\n",
        "    for X, y in dataloader:\n",
        "        X = X.to(device)\n",
        "        y = y.to(device)\n",
        "        optimizer.zero_grad()\n",
        "\n",
        "        pred = model(X.float())\n",
        "        loss = criterion(pred, y)\n",
        "        acc = get_accuracy(y, pred)\n",
        "\n",
        "        loss.backward()\n",
        "        optimizer.step()\n",
        "\n",
        "        epoch_loss += loss.item()\n",
        "        epoch_acc += acc.item()\n",
        "\n",
        "    return epoch_loss / len(dataloader), epoch_acc / len(dataloader)"
      ]
    },
    {
      "cell_type": "code",
      "execution_count": null,
      "metadata": {
        "id": "7OCe6ZaUnNYc"
      },
      "outputs": [],
      "source": [
        "#evaluates the model on the validation dataset (for 1 epoch)\n",
        "#returns average loss, average accuracy, average f1 score, average confusion matrix\n",
        "def evaluate(model, dataloader, criterion):\n",
        "  epoch_loss = 0\n",
        "  epoch_acc = 0\n",
        "  epoch_f1 = 0\n",
        "  epoch_cf = np.zeros((4, 4)) # 4 are the total labels\n",
        "\n",
        "  model.eval()\n",
        "  with torch.no_grad():\n",
        "    for X, y in dataloader:\n",
        "        X = X.to(device)\n",
        "        y = y.to(device)\n",
        "        pred = model(X.float())\n",
        "\n",
        "        loss = criterion(pred, y)\n",
        "        acc = get_accuracy(y, pred)\n",
        "        f1, cf = get_f1_cf(y, pred)\n",
        "\n",
        "        epoch_loss += loss.item()\n",
        "        epoch_acc += acc.item()\n",
        "        epoch_f1 += f1.item()\n",
        "        epoch_cf += cf\n",
        "\n",
        "  return epoch_loss / len(dataloader), epoch_acc / len(dataloader), epoch_f1 / len(dataloader), epoch_cf"
      ]
    },
    {
      "cell_type": "code",
      "execution_count": null,
      "metadata": {
        "id": "UOg7YU-Fa-zX"
      },
      "outputs": [],
      "source": [
        "#train the model on the training dataloader\n",
        "#evaluates the model on the validation dataloader\n",
        "#returns lists of train loss and accuracy,\n",
        "#valid loss, accuracy, f1, confusion matrix\n",
        "def train_eval_model(model, epochs, optimizer, criterion, train_dataloader, validation_dataloader, classes=[], plot_cf=False):\n",
        "  train_loss_list = []\n",
        "  train_acc_list = []\n",
        "  valid_loss_list = []\n",
        "  valid_acc_list = []\n",
        "  valid_f1_list = []\n",
        "  cf_list = []\n",
        "\n",
        "  for epoch in range(epochs):\n",
        "    print(f'Epoch: {epoch+1:02}')\n",
        "    train_loss, train_acc = train(model, train_dataloader, optimizer, criterion)\n",
        "    valid_loss, valid_acc, valid_f1, valid_cf = evaluate(model, validation_dataloader, criterion)\n",
        "\n",
        "    train_loss_list.append(train_loss)\n",
        "    train_acc_list.append(train_acc)\n",
        "    valid_loss_list.append(valid_loss)\n",
        "    valid_acc_list.append(valid_acc)\n",
        "    valid_f1_list.append(valid_f1)\n",
        "    cf_list.append(valid_cf)\n",
        "\n",
        "    print(f'\\tTrain Loss: {train_loss:.3f} | Train Acc: {train_acc*100:.2f}%')\n",
        "    print(f'\\t Val. Loss: {valid_loss:.3f} |  Val. Acc: {valid_acc*100:.2f}% | Val. F1: {valid_f1*100:.2f}%')\n",
        "    if plot_cf:\n",
        "      plot_confusion_matrix(valid_cf, classes)\n",
        "  return train_loss_list, train_acc_list, valid_loss_list, valid_acc_list, valid_f1_list, cf_list"
      ]
    },
    {
      "cell_type": "markdown",
      "metadata": {
        "id": "dwE_-X2p8_4f"
      },
      "source": [
        "* optimizer: stochastic gradient descent\n",
        "* learning rate: 0.002\n",
        "* loss function: cross-entropy loss\n",
        "* αριθμός εποχών: 30"
      ]
    },
    {
      "cell_type": "code",
      "execution_count": null,
      "metadata": {
        "id": "kYCyZF77265i"
      },
      "outputs": [],
      "source": [
        "D_in = test_mfs_x.shape[1]\n",
        "D_out = 4\n",
        "n_epochs = 30\n",
        "criterion = nn.CrossEntropyLoss()\n",
        "learning_rate = 0.002"
      ]
    },
    {
      "cell_type": "markdown",
      "metadata": {
        "id": "Qy2sFLjL1t9u"
      },
      "source": [
        "Train - Evaluate (CPU)"
      ]
    },
    {
      "cell_type": "code",
      "execution_count": null,
      "metadata": {
        "id": "v7KsvhDGfMch"
      },
      "outputs": [],
      "source": [
        "# device = 'cpu'\n",
        "\n",
        "# model = FullyConnectedNN(D_in, D_out)\n",
        "# model = model.to(device)\n",
        "# print(model)\n",
        "\n",
        "# optimizer = torch.optim.SGD(model.parameters(), lr = learning_rate)\n",
        "\n",
        "# start_time = time.time()\n",
        "# train_loss_list, train_acc_list, valid_loss_list, valid_acc_list, valid_f1_list, valid_cf_list = train_eval_model(\n",
        "#     model, n_epochs, optimizer, criterion, train_mfs_dataloader, val_mfs_dataloader\n",
        "# )\n",
        "# end_time = time.time()\n",
        "# total_time = end_time-start_time\n",
        "# total_time = \"{:.3f}\".format(total_time)\n",
        "\n",
        "# print(f'Total execution time (CPU): {total_time}')"
      ]
    },
    {
      "cell_type": "markdown",
      "metadata": {
        "id": "4PjIOdmR3Xkr"
      },
      "source": [
        "Train - Evaluate (GPU)"
      ]
    },
    {
      "cell_type": "code",
      "execution_count": null,
      "metadata": {
        "colab": {
          "base_uri": "https://localhost:8080/"
        },
        "id": "4mn5SV8p10mi",
        "outputId": "89765d97-ce92-40f3-b2a6-3a9fad669acd"
      },
      "outputs": [
        {
          "name": "stdout",
          "output_type": "stream",
          "text": [
            "Gpu available!\n",
            "FullyConnectedNN(\n",
            "  (flatten): Flatten(start_dim=1, end_dim=-1)\n",
            "  (model): Sequential(\n",
            "    (0): Linear(in_features=26, out_features=128, bias=True)\n",
            "    (1): ReLU()\n",
            "    (2): Linear(in_features=128, out_features=32, bias=True)\n",
            "    (3): ReLU()\n",
            "    (4): Linear(in_features=32, out_features=4, bias=True)\n",
            "  )\n",
            ")\n",
            "Epoch: 01\n",
            "\tTrain Loss: 1.388 | Train Acc: 24.66%\n",
            "\t Val. Loss: 1.377 |  Val. Acc: 34.62% | Val. F1: 27.03%\n",
            "Epoch: 02\n",
            "\tTrain Loss: 1.376 | Train Acc: 28.78%\n",
            "\t Val. Loss: 1.387 |  Val. Acc: 25.00% | Val. F1: 9.81%\n",
            "Epoch: 03\n",
            "\tTrain Loss: 1.372 | Train Acc: 31.09%\n",
            "\t Val. Loss: 1.361 |  Val. Acc: 38.62% | Val. F1: 25.50%\n",
            "Epoch: 04\n",
            "\tTrain Loss: 1.362 | Train Acc: 34.75%\n",
            "\t Val. Loss: 1.356 |  Val. Acc: 36.88% | Val. F1: 22.48%\n",
            "Epoch: 05\n",
            "\tTrain Loss: 1.353 | Train Acc: 37.41%\n",
            "\t Val. Loss: 1.352 |  Val. Acc: 35.25% | Val. F1: 22.13%\n",
            "Epoch: 06\n",
            "\tTrain Loss: 1.344 | Train Acc: 40.56%\n",
            "\t Val. Loss: 1.336 |  Val. Acc: 43.38% | Val. F1: 31.29%\n",
            "Epoch: 07\n",
            "\tTrain Loss: 1.333 | Train Acc: 40.62%\n",
            "\t Val. Loss: 1.325 |  Val. Acc: 48.75% | Val. F1: 37.38%\n",
            "Epoch: 08\n",
            "\tTrain Loss: 1.320 | Train Acc: 43.44%\n",
            "\t Val. Loss: 1.316 |  Val. Acc: 44.25% | Val. F1: 35.34%\n",
            "Epoch: 09\n",
            "\tTrain Loss: 1.310 | Train Acc: 47.12%\n",
            "\t Val. Loss: 1.306 |  Val. Acc: 42.12% | Val. F1: 31.75%\n",
            "Epoch: 10\n",
            "\tTrain Loss: 1.294 | Train Acc: 45.91%\n",
            "\t Val. Loss: 1.292 |  Val. Acc: 35.62% | Val. F1: 26.47%\n",
            "Epoch: 11\n",
            "\tTrain Loss: 1.281 | Train Acc: 48.31%\n",
            "\t Val. Loss: 1.271 |  Val. Acc: 55.38% | Val. F1: 46.51%\n",
            "Epoch: 12\n",
            "\tTrain Loss: 1.264 | Train Acc: 50.28%\n",
            "\t Val. Loss: 1.265 |  Val. Acc: 42.38% | Val. F1: 33.64%\n",
            "Epoch: 13\n",
            "\tTrain Loss: 1.248 | Train Acc: 49.66%\n",
            "\t Val. Loss: 1.241 |  Val. Acc: 50.12% | Val. F1: 42.87%\n",
            "Epoch: 14\n",
            "\tTrain Loss: 1.230 | Train Acc: 51.53%\n",
            "\t Val. Loss: 1.225 |  Val. Acc: 52.50% | Val. F1: 42.38%\n",
            "Epoch: 15\n",
            "\tTrain Loss: 1.210 | Train Acc: 51.44%\n",
            "\t Val. Loss: 1.199 |  Val. Acc: 56.75% | Val. F1: 47.93%\n",
            "Epoch: 16\n",
            "\tTrain Loss: 1.191 | Train Acc: 52.97%\n",
            "\t Val. Loss: 1.187 |  Val. Acc: 49.88% | Val. F1: 42.39%\n",
            "Epoch: 17\n",
            "\tTrain Loss: 1.175 | Train Acc: 52.00%\n",
            "\t Val. Loss: 1.192 |  Val. Acc: 49.75% | Val. F1: 40.99%\n",
            "Epoch: 18\n",
            "\tTrain Loss: 1.156 | Train Acc: 53.06%\n",
            "\t Val. Loss: 1.144 |  Val. Acc: 54.12% | Val. F1: 44.57%\n",
            "Epoch: 19\n",
            "\tTrain Loss: 1.142 | Train Acc: 53.50%\n",
            "\t Val. Loss: 1.129 |  Val. Acc: 56.88% | Val. F1: 53.65%\n",
            "Epoch: 20\n",
            "\tTrain Loss: 1.126 | Train Acc: 54.34%\n",
            "\t Val. Loss: 1.114 |  Val. Acc: 59.25% | Val. F1: 54.93%\n",
            "Epoch: 21\n",
            "\tTrain Loss: 1.110 | Train Acc: 55.34%\n",
            "\t Val. Loss: 1.097 |  Val. Acc: 57.25% | Val. F1: 52.58%\n",
            "Epoch: 22\n",
            "\tTrain Loss: 1.100 | Train Acc: 54.66%\n",
            "\t Val. Loss: 1.080 |  Val. Acc: 56.62% | Val. F1: 51.20%\n",
            "Epoch: 23\n",
            "\tTrain Loss: 1.086 | Train Acc: 55.09%\n",
            "\t Val. Loss: 1.082 |  Val. Acc: 54.87% | Val. F1: 46.52%\n",
            "Epoch: 24\n",
            "\tTrain Loss: 1.070 | Train Acc: 56.31%\n",
            "\t Val. Loss: 1.051 |  Val. Acc: 61.62% | Val. F1: 56.69%\n",
            "Epoch: 25\n",
            "\tTrain Loss: 1.067 | Train Acc: 56.16%\n",
            "\t Val. Loss: 1.035 |  Val. Acc: 61.12% | Val. F1: 57.78%\n",
            "Epoch: 26\n",
            "\tTrain Loss: 1.053 | Train Acc: 56.59%\n",
            "\t Val. Loss: 1.031 |  Val. Acc: 59.13% | Val. F1: 54.45%\n",
            "Epoch: 27\n",
            "\tTrain Loss: 1.045 | Train Acc: 57.84%\n",
            "\t Val. Loss: 1.010 |  Val. Acc: 60.62% | Val. F1: 53.41%\n",
            "Epoch: 28\n",
            "\tTrain Loss: 1.033 | Train Acc: 57.75%\n",
            "\t Val. Loss: 1.047 |  Val. Acc: 57.88% | Val. F1: 52.46%\n",
            "Epoch: 29\n",
            "\tTrain Loss: 1.019 | Train Acc: 58.50%\n",
            "\t Val. Loss: 1.046 |  Val. Acc: 55.88% | Val. F1: 49.90%\n",
            "Epoch: 30\n",
            "\tTrain Loss: 1.012 | Train Acc: 58.22%\n",
            "\t Val. Loss: 0.997 |  Val. Acc: 60.50% | Val. F1: 52.43%\n",
            "Total execution time (GPU): 16.585\n"
          ]
        }
      ],
      "source": [
        "if torch.cuda.is_available():\n",
        "  print('Gpu available!')\n",
        "  device = 'cuda'\n",
        "\n",
        "model = FullyConnectedNN(D_in, D_out)\n",
        "model = model.to(device)\n",
        "print(model)\n",
        "\n",
        "optimizer = torch.optim.SGD(model.parameters(), lr = learning_rate)\n",
        "\n",
        "if device == 'cuda':\n",
        "  start_time = time.time()\n",
        "  train_loss_list, train_acc_list, valid_loss_list, valid_acc_list, valid_f1_list, valid_cf_list = train_eval_model(\n",
        "      model, n_epochs, optimizer, criterion, train_mfs_dataloader, val_mfs_dataloader\n",
        "  )\n",
        "  end_time = time.time()\n",
        "  total_time = end_time-start_time\n",
        "  total_time = \"{:.3f}\".format(total_time)\n",
        "\n",
        "  print(f'Total execution time (GPU): {total_time}')\n",
        "else:\n",
        "  print('No available gpu...')"
      ]
    },
    {
      "cell_type": "code",
      "execution_count": null,
      "metadata": {
        "colab": {
          "base_uri": "https://localhost:8080/",
          "height": 415
        },
        "id": "j21LjZCVqIJP",
        "outputId": "8289948c-1e3d-4688-ed4a-1c5a6281d389"
      },
      "outputs": [
        {
          "data": {
            "image/png": "[encoded data removed]",
            "text/plain": [
              "<Figure size 600x400 with 1 Axes>"
            ]
          },
          "metadata": {},
          "output_type": "display_data"
        }
      ],
      "source": [
        "plot_loss_acc(train_loss_list, valid_loss_list, train_acc_list, valid_acc_list, n_epochs, append_to_tile = \"\")"
      ]
    },
    {
      "cell_type": "markdown",
      "metadata": {
        "id": "7ctH_pl_ya9i"
      },
      "source": [
        "### Test Model"
      ]
    },
    {
      "cell_type": "code",
      "execution_count": null,
      "metadata": {
        "colab": {
          "base_uri": "https://localhost:8080/",
          "height": 611
        },
        "id": "xF9-1eTdzKee",
        "outputId": "2ab8c4c1-a2d2-4289-804d-04be89776d6f"
      },
      "outputs": [
        {
          "name": "stdout",
          "output_type": "stream",
          "text": [
            "Test Loss: 1.053 |  Test Acc: 58.87% | Test F1: 31.33%\n",
            "\n"
          ]
        },
        {
          "data": {
            "image/png": "[encoded data removed]",
            "text/plain": [
              "<Figure size 1000x800 with 2 Axes>"
            ]
          },
          "metadata": {},
          "output_type": "display_data"
        }
      ],
      "source": [
        "test_loss, test_acc, test_f1, test_cf = evaluate(model, test_mfs_dataloader, criterion)\n",
        "print(f'Test Loss: {test_loss:.3f} |  Test Acc: {test_acc*100:.2f}% | Test F1: {test_f1*100:.2f}%\\n')\n",
        "plot_confusion_matrix(test_cf, dist_labels)"
      ]
    },
    {
      "cell_type": "markdown",
      "metadata": {
        "id": "7ytqA1CbBgQD"
      },
      "source": [
        "### Use the model with the highest f1 score"
      ]
    },
    {
      "cell_type": "markdown",
      "metadata": {
        "id": "GA49kdUKz_-Q"
      },
      "source": [
        "Train the model for 30 epochs and save the model that achieved the best f1 score in validation dataset"
      ]
    },
    {
      "cell_type": "code",
      "execution_count": null,
      "metadata": {
        "id": "m9pCRUVe-9Y2"
      },
      "outputs": [],
      "source": [
        "#train the model on the training dataloader\n",
        "#evaluates the model on the validation dataloader\n",
        "#returns the model that achieved the best f1 score\n",
        "#in validation dataset and the max f1 score\n",
        "def find_max_f1_model(model, epochs, optimizer, criterion, train_dataloader, validation_dataloader):\n",
        "  max_f1_model = None\n",
        "  max_f1 = 0\n",
        "\n",
        "  for epoch in range(epochs):\n",
        "    print(f'Epoch: {epoch+1:02}')\n",
        "    train_loss, train_acc = train(model, train_dataloader, optimizer, criterion)\n",
        "    valid_loss, valid_acc, valid_f1, valid_cf = evaluate(model, validation_dataloader, criterion)\n",
        "\n",
        "    print(f'\\tTrain Loss: {train_loss:.3f} | Train Acc: {train_acc*100:.2f}%')\n",
        "    print(f'\\t Val. Loss: {valid_loss:.3f} |  Val. Acc: {valid_acc*100:.2f}% | Val. F1: {valid_f1*100:.2f}%')\n",
        "\n",
        "    if valid_f1 > max_f1:\n",
        "      max_f1 = valid_f1\n",
        "      max_f1_model = model\n",
        "\n",
        "  return max_f1_model, max_f1"
      ]
    },
    {
      "cell_type": "code",
      "execution_count": null,
      "metadata": {
        "colab": {
          "base_uri": "https://localhost:8080/"
        },
        "id": "uC1JL1BCAGW0",
        "outputId": "c6b4d3db-0202-4966-8037-cec447e0103e"
      },
      "outputs": [
        {
          "name": "stdout",
          "output_type": "stream",
          "text": [
            "Gpu available!\n",
            "Epoch: 01\n",
            "\tTrain Loss: 1.392 | Train Acc: 26.41%\n",
            "\t Val. Loss: 1.387 |  Val. Acc: 18.38% | Val. F1: 15.34%\n",
            "Epoch: 02\n",
            "\tTrain Loss: 1.380 | Train Acc: 30.09%\n",
            "\t Val. Loss: 1.380 |  Val. Acc: 25.37% | Val. F1: 10.49%\n",
            "Epoch: 03\n",
            "\tTrain Loss: 1.372 | Train Acc: 34.84%\n",
            "\t Val. Loss: 1.372 |  Val. Acc: 30.88% | Val. F1: 20.35%\n",
            "Epoch: 04\n",
            "\tTrain Loss: 1.364 | Train Acc: 34.72%\n",
            "\t Val. Loss: 1.363 |  Val. Acc: 35.00% | Val. F1: 26.19%\n",
            "Epoch: 05\n",
            "\tTrain Loss: 1.356 | Train Acc: 38.78%\n",
            "\t Val. Loss: 1.354 |  Val. Acc: 43.62% | Val. F1: 35.47%\n",
            "Epoch: 06\n",
            "\tTrain Loss: 1.345 | Train Acc: 39.41%\n",
            "\t Val. Loss: 1.347 |  Val. Acc: 30.88% | Val. F1: 20.11%\n",
            "Epoch: 07\n",
            "\tTrain Loss: 1.335 | Train Acc: 40.44%\n",
            "\t Val. Loss: 1.332 |  Val. Acc: 43.38% | Val. F1: 28.82%\n",
            "Epoch: 08\n",
            "\tTrain Loss: 1.321 | Train Acc: 41.03%\n",
            "\t Val. Loss: 1.320 |  Val. Acc: 44.50% | Val. F1: 28.60%\n",
            "Epoch: 09\n",
            "\tTrain Loss: 1.311 | Train Acc: 42.09%\n",
            "\t Val. Loss: 1.306 |  Val. Acc: 45.88% | Val. F1: 37.04%\n",
            "Epoch: 10\n",
            "\tTrain Loss: 1.294 | Train Acc: 43.94%\n",
            "\t Val. Loss: 1.291 |  Val. Acc: 50.12% | Val. F1: 40.88%\n",
            "Epoch: 11\n",
            "\tTrain Loss: 1.280 | Train Acc: 45.81%\n",
            "\t Val. Loss: 1.271 |  Val. Acc: 46.88% | Val. F1: 33.38%\n",
            "Epoch: 12\n",
            "\tTrain Loss: 1.260 | Train Acc: 44.31%\n",
            "\t Val. Loss: 1.256 |  Val. Acc: 48.62% | Val. F1: 42.24%\n",
            "Epoch: 13\n",
            "\tTrain Loss: 1.241 | Train Acc: 46.69%\n",
            "\t Val. Loss: 1.234 |  Val. Acc: 47.12% | Val. F1: 39.34%\n",
            "Epoch: 14\n",
            "\tTrain Loss: 1.221 | Train Acc: 48.66%\n",
            "\t Val. Loss: 1.227 |  Val. Acc: 46.50% | Val. F1: 34.92%\n",
            "Epoch: 15\n",
            "\tTrain Loss: 1.203 | Train Acc: 48.25%\n",
            "\t Val. Loss: 1.194 |  Val. Acc: 49.12% | Val. F1: 40.70%\n",
            "Epoch: 16\n",
            "\tTrain Loss: 1.184 | Train Acc: 49.03%\n",
            "\t Val. Loss: 1.172 |  Val. Acc: 59.38% | Val. F1: 51.44%\n",
            "Epoch: 17\n",
            "\tTrain Loss: 1.163 | Train Acc: 50.69%\n",
            "\t Val. Loss: 1.152 |  Val. Acc: 46.50% | Val. F1: 32.86%\n",
            "Epoch: 18\n",
            "\tTrain Loss: 1.150 | Train Acc: 50.91%\n",
            "\t Val. Loss: 1.137 |  Val. Acc: 58.88% | Val. F1: 52.98%\n",
            "Epoch: 19\n",
            "\tTrain Loss: 1.137 | Train Acc: 52.50%\n",
            "\t Val. Loss: 1.117 |  Val. Acc: 60.00% | Val. F1: 50.80%\n",
            "Epoch: 20\n",
            "\tTrain Loss: 1.119 | Train Acc: 53.94%\n",
            "\t Val. Loss: 1.101 |  Val. Acc: 51.38% | Val. F1: 41.55%\n",
            "Epoch: 21\n",
            "\tTrain Loss: 1.108 | Train Acc: 54.03%\n",
            "\t Val. Loss: 1.084 |  Val. Acc: 65.12% | Val. F1: 59.72%\n",
            "Epoch: 22\n",
            "\tTrain Loss: 1.094 | Train Acc: 55.41%\n",
            "\t Val. Loss: 1.074 |  Val. Acc: 63.50% | Val. F1: 60.22%\n",
            "Epoch: 23\n",
            "\tTrain Loss: 1.083 | Train Acc: 55.41%\n",
            "\t Val. Loss: 1.071 |  Val. Acc: 58.25% | Val. F1: 53.34%\n",
            "Epoch: 24\n",
            "\tTrain Loss: 1.070 | Train Acc: 55.53%\n",
            "\t Val. Loss: 1.043 |  Val. Acc: 65.25% | Val. F1: 61.67%\n",
            "Epoch: 25\n",
            "\tTrain Loss: 1.062 | Train Acc: 57.25%\n",
            "\t Val. Loss: 1.036 |  Val. Acc: 55.75% | Val. F1: 46.71%\n",
            "Epoch: 26\n",
            "\tTrain Loss: 1.058 | Train Acc: 58.84%\n",
            "\t Val. Loss: 1.017 |  Val. Acc: 65.75% | Val. F1: 59.89%\n",
            "Epoch: 27\n",
            "\tTrain Loss: 1.043 | Train Acc: 57.97%\n",
            "\t Val. Loss: 1.007 |  Val. Acc: 67.25% | Val. F1: 64.66%\n",
            "Epoch: 28\n",
            "\tTrain Loss: 1.032 | Train Acc: 58.81%\n",
            "\t Val. Loss: 1.001 |  Val. Acc: 67.00% | Val. F1: 63.41%\n",
            "Epoch: 29\n",
            "\tTrain Loss: 1.028 | Train Acc: 58.88%\n",
            "\t Val. Loss: 0.992 |  Val. Acc: 64.12% | Val. F1: 56.87%\n",
            "Epoch: 30\n",
            "\tTrain Loss: 1.016 | Train Acc: 59.56%\n",
            "\t Val. Loss: 0.999 |  Val. Acc: 62.88% | Val. F1: 58.50%\n",
            "Max validation f1 achieved in 30: 64.66%\n"
          ]
        }
      ],
      "source": [
        "if torch.cuda.is_available():\n",
        "  print('Gpu available!')\n",
        "  device = 'cuda'\n",
        "\n",
        "model = FullyConnectedNN(D_in, D_out)\n",
        "model = model.to(device)\n",
        "optimizer = torch.optim.SGD(model.parameters(), lr = learning_rate)\n",
        "\n",
        "if device == 'cuda':\n",
        "  max_f1_model, max_f1 = find_max_f1_model(\n",
        "      model, n_epochs, optimizer, criterion, train_mfs_dataloader, val_mfs_dataloader\n",
        "  )\n",
        "\n",
        "  print(f'Max validation f1 achieved in {n_epochs}: {max_f1*100:.2f}%')\n",
        "\n",
        "else:\n",
        "  print('No available gpu...')"
      ]
    },
    {
      "cell_type": "code",
      "execution_count": null,
      "metadata": {
        "colab": {
          "base_uri": "https://localhost:8080/",
          "height": 611
        },
        "id": "fmRhBKPDBDvB",
        "outputId": "21352d18-b346-4734-d7cf-d82894c2f062"
      },
      "outputs": [
        {
          "name": "stdout",
          "output_type": "stream",
          "text": [
            "Test Loss: 1.023 |  Test Acc: 60.90% | Test F1: 28.96%\n",
            "\n"
          ]
        },
        {
          "data": {
            "image/png": "[encoded data removed]",
            "text/plain": [
              "<Figure size 1000x800 with 2 Axes>"
            ]
          },
          "metadata": {},
          "output_type": "display_data"
        }
      ],
      "source": [
        "test_loss, test_acc, test_f1, test_cf = evaluate(max_f1_model, test_mfs_dataloader, criterion)\n",
        "print(f'Test Loss: {test_loss:.3f} |  Test Acc: {test_acc*100:.2f}% | Test F1: {test_f1*100:.2f}%\\n')\n",
        "plot_confusion_matrix(test_cf, dist_labels)"
      ]
    },
    {
      "cell_type": "markdown",
      "metadata": {
        "id": "6_Ul38j7BYMX"
      },
      "source": [
        "It seems that we succeed in our attempt to optimize the training of our model by stopping the training of the model when maximum validation f1 score was achieved. The scores of this model are slightly better that that of the previous."
      ]
    },
    {
      "cell_type": "markdown",
      "metadata": {
        "id": "Ii9DaOwD0Hq7"
      },
      "source": [
        "## Ex. 2: Convolutional Neural Network"
      ]
    },
    {
      "cell_type": "markdown",
      "metadata": {
        "id": "f19rX0nU93Od"
      },
      "source": [
        "Use mel-spectograms as data"
      ]
    },
    {
      "cell_type": "code",
      "execution_count": 29,
      "metadata": {
        "id": "4eyPr_mm0aHE"
      },
      "outputs": [],
      "source": [
        "test_melgs_dataset = Dataset(test_melgs_x, test_y)\n",
        "train_melgs_dataset = Dataset(train_melgs_x, train_y)\n",
        "val_melgs_dataset = Dataset(val_melgs_x, val_y)"
      ]
    },
    {
      "cell_type": "code",
      "execution_count": 30,
      "metadata": {
        "id": "yFVsW6dO0aHE"
      },
      "outputs": [],
      "source": [
        "batch_size = 16\n",
        "num_workers = 1  #for reproducability\n",
        "test_melgs_dataloader = DataLoader(test_melgs_dataset, batch_size=batch_size, shuffle=False, num_workers=num_workers)\n",
        "train_melgs_dataloader = DataLoader(train_melgs_dataset, batch_size=batch_size, shuffle=True, num_workers=num_workers)\n",
        "val_melgs_dataloader = DataLoader(val_melgs_dataset, batch_size=batch_size, shuffle=True, num_workers=num_workers)"
      ]
    },
    {
      "cell_type": "code",
      "execution_count": 31,
      "metadata": {
        "id": "j5txwSk67MyE"
      },
      "outputs": [],
      "source": [
        "decoded_labels = label_encoder.inverse_transform(test_y)\n",
        "rand_melgs = []\n",
        "rand_melgs_labels = []\n",
        "for i in range(4): #4 classes totally\n",
        "  rand_idx = np.where(test_y == i)[0][0]\n",
        "  rand_melg = test_melgs_x[rand_idx]\n",
        "  rand_melg_label = decoded_labels[rand_idx]\n",
        "  rand_melgs.append(rand_melg)\n",
        "  rand_melgs_labels.append(rand_melg_label)"
      ]
    },
    {
      "cell_type": "markdown",
      "metadata": {
        "id": "GXJ78X6i9GD7"
      },
      "source": [
        "Plot random melgrams"
      ]
    },
    {
      "cell_type": "code",
      "execution_count": 32,
      "metadata": {
        "colab": {
          "base_uri": "https://localhost:8080/",
          "height": 805
        },
        "id": "i14P5wDm8bur",
        "outputId": "270664c1-c47a-4384-a582-ec761af0877d"
      },
      "outputs": [
        {
          "data": {
            "image/png": "[encoded data removed]",
            "text/plain": [
              "<Figure size 800x800 with 8 Axes>"
            ]
          },
          "metadata": {},
          "output_type": "display_data"
        }
      ],
      "source": [
        "fig, axes = plt.subplots(2, 2, figsize=(8, 8))\n",
        "axes = axes.flatten()\n",
        "for i in range(len(rand_melgs)):\n",
        "    rand_melg = rand_melgs[i]\n",
        "    rand_melg_label = rand_melgs_labels[i]\n",
        "    ax = axes[i]\n",
        "    sns.heatmap(rand_melg, cmap='viridis', ax=ax)\n",
        "    ax.set_title(rand_melg_label.format(i+1))\n",
        "\n",
        "plt.suptitle('Heatmap Subplots')\n",
        "plt.tight_layout()\n",
        "plt.show()"
      ]
    },
    {
      "cell_type": "markdown",
      "metadata": {
        "id": "-3T5YQ4yAK58"
      },
      "source": [
        "### CNN Model"
      ]
    },
    {
      "cell_type": "code",
      "execution_count": 15,
      "metadata": {
        "id": "pfnPyPMGm8YQ"
      },
      "outputs": [],
      "source": [
        "set_seeds(seed)"
      ]
    },
    {
      "cell_type": "code",
      "execution_count": 16,
      "metadata": {
        "id": "UJG4Ocfr5ku8"
      },
      "outputs": [],
      "source": [
        "device = torch.device(\"cuda\" if torch.cuda.is_available() else \"cpu\")\n",
        "#Reproducability\n",
        "if device.type == \"cuda\":\n",
        "    torch.cuda.manual_seed(seed)"
      ]
    },
    {
      "cell_type": "markdown",
      "metadata": {
        "id": "RzYwVdJREWe4"
      },
      "source": [
        "Convolutional Neural Network consisting of\n",
        "* A sequence of four convolutional layers, with kernel size 5, with the following channel sequence 1, 16, 32, 64, 64, 128\n",
        "* The output of the last convolutional level is input to a fully convolutional connected neural network of 5 levels with number of neurons: x\n",
        "(convolutional network output dimension), 1024, 256, 32, out_dim"
      ]
    },
    {
      "cell_type": "code",
      "execution_count": 17,
      "metadata": {
        "id": "-8WZv-962naP"
      },
      "outputs": [],
      "source": [
        "class CNN(nn.Module):\n",
        "    def __init__(self, out_dim):\n",
        "        super(CNN, self).__init__()\n",
        "        self.conv_layers = nn.Sequential(\n",
        "            nn.Conv2d(1, 16, kernel_size=5),\n",
        "            nn.ReLU(),\n",
        "            nn.Conv2d(16, 32, kernel_size=5),\n",
        "            nn.ReLU(),\n",
        "            nn.Conv2d(32, 64, kernel_size=5),\n",
        "            nn.ReLU(),\n",
        "            nn.Conv2d(64, 128, kernel_size=5),\n",
        "            nn.ReLU(),\n",
        "        )\n",
        "\n",
        "        conv_output_size = self._get_conv_output_size((1, 21, 128))\n",
        "\n",
        "        self.fc_layers = nn.Sequential(\n",
        "            nn.Linear(conv_output_size, 1024),\n",
        "            nn.ReLU(),\n",
        "            nn.Linear(1024, 256),\n",
        "            nn.ReLU(),\n",
        "            nn.Linear(256, 32),\n",
        "            nn.ReLU(),\n",
        "            nn.Linear(32, out_dim)\n",
        "        )\n",
        "\n",
        "    def forward(self, x):\n",
        "        x = self.conv_layers(x)\n",
        "        x = x.view(x.size(0), -1)\n",
        "        x = self.fc_layers(x)\n",
        "        return x\n",
        "\n",
        "    def _get_conv_output_size(self, input_shape):\n",
        "        input_tensor = torch.zeros(1, *input_shape)\n",
        "        output_tensor = self.conv_layers(input_tensor)\n",
        "        conv_output_size = output_tensor.view(1, -1).size(1)\n",
        "        return conv_output_size"
      ]
    },
    {
      "cell_type": "markdown",
      "metadata": {
        "id": "3vC8-brg--j4"
      },
      "source": [
        "### Train - Evaluate"
      ]
    },
    {
      "cell_type": "code",
      "execution_count": 18,
      "metadata": {
        "id": "aY0kSJ4EAdAO"
      },
      "outputs": [],
      "source": [
        "def get_f1(y_true, y_pred):\n",
        "    y_pred = y_pred.argmax(dim=1).cpu().numpy()\n",
        "    y_true = y_true.cpu().numpy()\n",
        "    f1_weighted = f1_score(y_true, y_pred, average='macro')\n",
        "    return f1_weighted"
      ]
    },
    {
      "cell_type": "code",
      "execution_count": 19,
      "metadata": {
        "id": "f6umYTM-62BW"
      },
      "outputs": [],
      "source": [
        "#train the model on the training dataloader (for 1 epoch)\n",
        "#returns average loss and average accuracy\n",
        "def train_CNN(model, dataloader, optimizer, criterion, scheduler=None):\n",
        "    model.train()\n",
        "    epoch_loss = 0\n",
        "    epoch_acc = 0\n",
        "\n",
        "    for X, y in dataloader:\n",
        "        X = X.unsqueeze(1)\n",
        "        X = X.to(device)\n",
        "        y = y.to(device)\n",
        "        optimizer.zero_grad()\n",
        "\n",
        "        pred = model(X)\n",
        "        loss = criterion(pred, y)\n",
        "        acc = get_accuracy(y, pred)\n",
        "\n",
        "        loss.backward()\n",
        "        optimizer.step()\n",
        "\n",
        "        epoch_loss += loss.item()\n",
        "        epoch_acc += acc.item()\n",
        "\n",
        "    if scheduler is not None:\n",
        "        scheduler.step()\n",
        "\n",
        "    return epoch_loss / len(dataloader), epoch_acc / len(dataloader)"
      ]
    },
    {
      "cell_type": "code",
      "execution_count": 20,
      "metadata": {
        "id": "eztK95heKuS-"
      },
      "outputs": [],
      "source": [
        "#evaluates the model on the validation dataset (for 1 epoch)\n",
        "#returns average loss, average accuracy, average f1 score\n",
        "def evaluate_CNN(model, dataloader, criterion):\n",
        "    model.eval()\n",
        "    epoch_loss = 0\n",
        "    epoch_acc = 0\n",
        "    epoch_f1 = 0\n",
        "\n",
        "    model.eval()\n",
        "    with torch.no_grad():\n",
        "      for X, y in dataloader:\n",
        "          X = X.unsqueeze(1)\n",
        "          X = X.to(device)\n",
        "          y = y.to(device)\n",
        "          pred = model(X.float())\n",
        "\n",
        "          loss = criterion(pred, y)\n",
        "          acc = get_accuracy(y, pred)\n",
        "          f1 = get_f1(y, pred)\n",
        "\n",
        "          epoch_loss += loss.item()\n",
        "          epoch_acc += acc.item()\n",
        "          epoch_f1 += f1.item()\n",
        "\n",
        "    return epoch_loss / len(dataloader), epoch_acc / len(dataloader), epoch_f1 / len(dataloader)"
      ]
    },
    {
      "cell_type": "code",
      "execution_count": 21,
      "metadata": {
        "id": "OZ5RavsLPqVd"
      },
      "outputs": [],
      "source": [
        "#train the model on the training dataloader\n",
        "#evaluates the model on the validation dataloader\n",
        "#returns lists of train loss and accuracy and valid loss, accuracy and f1 score\n",
        "def train_eval_CNN(model, epochs, optimizer, criterion, train_dataloader, validation_dataloader, classes=[], print_res=True, scheduler=None):\n",
        "  train_loss_list = []\n",
        "  train_acc_list = []\n",
        "  valid_loss_list = []\n",
        "  valid_acc_list = []\n",
        "  valid_f1_list = []\n",
        "\n",
        "  for epoch in range(epochs):\n",
        "    if print_res:\n",
        "      print(f'Epoch: {epoch+1:02}')\n",
        "\n",
        "    train_loss, train_acc = train_CNN(model, train_dataloader, optimizer, criterion,scheduler)\n",
        "    valid_loss, valid_acc, valid_f1 = evaluate_CNN(model, validation_dataloader, criterion)\n",
        "\n",
        "    train_loss_list.append(train_loss)\n",
        "    train_acc_list.append(train_acc)\n",
        "    valid_loss_list.append(valid_loss)\n",
        "    valid_acc_list.append(valid_acc)\n",
        "    valid_f1_list.append(valid_f1)\n",
        "\n",
        "    if print_res:\n",
        "      print(f'\\tTrain Loss: {train_loss:.3f} | Train Acc: {train_acc*100:.2f}%')\n",
        "      print(f'\\t Val. Loss: {valid_loss:.3f} |  Val. Acc: {valid_acc*100:.2f}% | Val. F1: {valid_f1*100:.2f}%')\n",
        "\n",
        "  return train_loss_list, train_acc_list, valid_loss_list, valid_acc_list, valid_f1_list"
      ]
    },
    {
      "cell_type": "markdown",
      "metadata": {
        "id": "ruGov0OyWoV1"
      },
      "source": [
        "Train - Evaluate CNN Model without pooling and padding"
      ]
    },
    {
      "cell_type": "code",
      "execution_count": 22,
      "metadata": {
        "id": "F0iSxl0TQ_zU"
      },
      "outputs": [],
      "source": [
        "CNN_out_dim = 4\n",
        "set_seeds(seed)\n",
        "CNN_model = CNN(CNN_out_dim)\n",
        "CNN_model.to(device)\n",
        "CNN_criterion = nn.CrossEntropyLoss()\n",
        "CNN_lr=0.00001\n",
        "CNN_optimizer = optim.Adam(CNN_model.parameters(), lr=CNN_lr)\n",
        "CNN_n_epochs = 4"
      ]
    },
    {
      "cell_type": "code",
      "execution_count": null,
      "metadata": {
        "colab": {
          "base_uri": "https://localhost:8080/"
        },
        "id": "t9Jv7PloRMsf",
        "outputId": "d4b47009-9b43-43a0-b35c-b622cf4999d3"
      },
      "outputs": [
        {
          "name": "stdout",
          "output_type": "stream",
          "text": [
            "Epoch: 01\n",
            "\tTrain Loss: 1.300 | Train Acc: 35.97%\n",
            "\t Val. Loss: 1.151 |  Val. Acc: 42.50% | Val. F1: 26.89%\n",
            "Epoch: 02\n",
            "\tTrain Loss: 1.089 | Train Acc: 48.81%\n",
            "\t Val. Loss: 1.043 |  Val. Acc: 53.12% | Val. F1: 47.89%\n",
            "Epoch: 03\n",
            "\tTrain Loss: 0.935 | Train Acc: 59.34%\n",
            "\t Val. Loss: 0.909 |  Val. Acc: 62.62% | Val. F1: 59.59%\n",
            "Epoch: 04\n",
            "\tTrain Loss: 0.841 | Train Acc: 64.94%\n",
            "\t Val. Loss: 0.861 |  Val. Acc: 64.00% | Val. F1: 61.32%\n",
            "Total execution time for CNN without pooling and padding: 60.542 seconds\n"
          ]
        }
      ],
      "source": [
        "start_time = time.time()\n",
        "train_loss_list_CNN, train_acc_list_CNN, valid_loss_list_CNN, valid_acc_list_CNN, valid_f1_list_CNN = train_eval_CNN(\n",
        "      CNN_model, CNN_n_epochs, CNN_optimizer, CNN_criterion, train_melgs_dataloader, val_melgs_dataloader\n",
        "  )\n",
        "end_time = time.time()\n",
        "total_time = end_time-start_time\n",
        "total_time = \"{:.3f}\".format(total_time)\n",
        "\n",
        "print(f'Total execution time for CNN without pooling and padding: {total_time} seconds')"
      ]
    },
    {
      "cell_type": "markdown",
      "metadata": {
        "id": "U8I_N7rKAGkO"
      },
      "source": [
        "Training proccess without pooling and padding seem to be slow and the model seem to be complex."
      ]
    },
    {
      "cell_type": "code",
      "execution_count": null,
      "metadata": {
        "colab": {
          "base_uri": "https://localhost:8080/",
          "height": 415
        },
        "id": "FFJ0i7jaaNaH",
        "outputId": "58cf1e64-5020-4d3c-f560-358663322031"
      },
      "outputs": [
        {
          "data": {
            "image/png": "[encoded data removed]",
            "text/plain": [
              "<Figure size 600x400 with 1 Axes>"
            ]
          },
          "metadata": {},
          "output_type": "display_data"
        }
      ],
      "source": [
        "plot_loss_acc(train_loss_list_CNN, valid_loss_list_CNN, train_acc_list_CNN, valid_acc_list_CNN, CNN_n_epochs, append_to_tile = \"\")"
      ]
    },
    {
      "cell_type": "markdown",
      "metadata": {
        "id": "YPaz-v_kBzjk"
      },
      "source": [
        "### Test Model"
      ]
    },
    {
      "cell_type": "code",
      "execution_count": null,
      "metadata": {
        "colab": {
          "base_uri": "https://localhost:8080/"
        },
        "id": "GuHBEXXQB9HX",
        "outputId": "15d04b99-be75-4dd7-e11e-4e19dcb22082"
      },
      "outputs": [
        {
          "name": "stdout",
          "output_type": "stream",
          "text": [
            "Test Loss: 0.908 |  Test Acc: 62.43% | Test F1: 33.60%\n",
            "\n"
          ]
        }
      ],
      "source": [
        "test_loss, test_acc, test_f1 = evaluate_CNN(CNN_model, test_melgs_dataloader, CNN_criterion)\n",
        "print(f'Test Loss: {test_loss:.3f} |  Test Acc: {test_acc*100:.2f}% | Test F1: {test_f1*100:.2f}%\\n')"
      ]
    },
    {
      "cell_type": "markdown",
      "metadata": {
        "id": "z2WVj7RFh6nv"
      },
      "source": [
        "### CNN Model With Pooling and Padding"
      ]
    },
    {
      "cell_type": "code",
      "execution_count": 53,
      "metadata": {
        "id": "q-BPC8R5t1_O"
      },
      "outputs": [],
      "source": [
        "class CNN_pool_pad(nn.Module):\n",
        "    def __init__(self, out_dim, activation, dropout_rate=0):\n",
        "        super(CNN_pool_pad, self).__init__()\n",
        "        self.conv_layers = nn.Sequential(\n",
        "            nn.Conv2d(1, 16, kernel_size=5, padding=2),\n",
        "            activation(),\n",
        "            nn.Dropout(dropout_rate),\n",
        "            nn.MaxPool2d(kernel_size=2),\n",
        "            nn.Conv2d(16, 32, kernel_size=5, padding=2),\n",
        "            activation(),\n",
        "            nn.Dropout(dropout_rate),\n",
        "            nn.MaxPool2d(kernel_size=2),\n",
        "            nn.Conv2d(32, 64, kernel_size=5, padding=2),\n",
        "            activation(),\n",
        "            nn.Dropout(dropout_rate),\n",
        "            nn.MaxPool2d(kernel_size=2),\n",
        "            nn.Conv2d(64, 128, kernel_size=5, padding=2),\n",
        "            activation(),\n",
        "            nn.MaxPool2d(kernel_size=2)\n",
        "        )\n",
        "\n",
        "        conv_output_size = self._get_conv_output_size((1, 21, 128))\n",
        "\n",
        "        self.fc_layers = nn.Sequential(\n",
        "            nn.Linear(conv_output_size, 1024),\n",
        "            activation(),\n",
        "            nn.Linear(1024, 256),\n",
        "            activation(),\n",
        "            nn.Linear(256, 32),\n",
        "            activation(),\n",
        "            nn.Linear(32, out_dim)\n",
        "        )\n",
        "\n",
        "    def forward(self, x):\n",
        "        x = self.conv_layers(x)\n",
        "        x = x.view(x.size(0), -1)\n",
        "        x = self.fc_layers(x)\n",
        "        return x\n",
        "\n",
        "    def _get_conv_output_size(self, input_shape):\n",
        "        input_tensor = torch.zeros(1, *input_shape)\n",
        "        output_tensor = self.conv_layers(input_tensor)\n",
        "        conv_output_size = output_tensor.view(1, -1).size(1)\n",
        "        return conv_output_size"
      ]
    },
    {
      "cell_type": "code",
      "execution_count": 24,
      "metadata": {
        "id": "k00lvkg-jnPK"
      },
      "outputs": [],
      "source": [
        "CNN_pool_pad_out_dim = 4\n",
        "set_seeds(seed)\n",
        "CNN_pool_pad_model = CNN_pool_pad(CNN_pool_pad_out_dim,nn.ReLU)\n",
        "CNN_pool_pad_model.to(device)\n",
        "CNN_pool_pad_criterion = nn.CrossEntropyLoss()\n",
        "CNN_pool_pad_lr=0.00001\n",
        "CNN_pool_pad_optimizer = optim.Adam(CNN_pool_pad_model.parameters(), lr=CNN_pool_pad_lr)\n",
        "CNN_pool_pad_n_epochs = 5"
      ]
    },
    {
      "cell_type": "code",
      "execution_count": null,
      "metadata": {
        "colab": {
          "base_uri": "https://localhost:8080/"
        },
        "id": "PwSjw38jjoqO",
        "outputId": "3fa261a2-78bd-408b-af4c-dec79771c599"
      },
      "outputs": [
        {
          "name": "stdout",
          "output_type": "stream",
          "text": [
            "Epoch: 01\n",
            "\tTrain Loss: 1.370 | Train Acc: 30.91%\n",
            "\t Val. Loss: 1.362 |  Val. Acc: 26.38% | Val. F1: 12.53%\n",
            "Epoch: 02\n",
            "\tTrain Loss: 1.305 | Train Acc: 41.88%\n",
            "\t Val. Loss: 1.268 |  Val. Acc: 42.25% | Val. F1: 30.46%\n",
            "Epoch: 03\n",
            "\tTrain Loss: 1.176 | Train Acc: 46.56%\n",
            "\t Val. Loss: 1.120 |  Val. Acc: 53.87% | Val. F1: 44.59%\n",
            "Epoch: 04\n",
            "\tTrain Loss: 1.062 | Train Acc: 52.03%\n",
            "\t Val. Loss: 1.043 |  Val. Acc: 51.75% | Val. F1: 45.07%\n",
            "Epoch: 05\n",
            "\tTrain Loss: 0.975 | Train Acc: 56.50%\n",
            "\t Val. Loss: 0.954 |  Val. Acc: 61.88% | Val. F1: 58.72%\n",
            "Total execution time for CNN with pooling and padding:: 7.937 seconds\n"
          ]
        }
      ],
      "source": [
        "start_time = time.time()\n",
        "train_loss_list_CNN_pool_pad, train_acc_list_CNN_pool_pad, valid_loss_list_CNN_pool_pad, valid_acc_list_CNN_pool_pad, valid_f1_list_CNN_pool_pad = train_eval_CNN(\n",
        "      CNN_pool_pad_model, CNN_pool_pad_n_epochs, CNN_pool_pad_optimizer, CNN_pool_pad_criterion, train_melgs_dataloader, val_melgs_dataloader\n",
        "  )\n",
        "end_time = time.time()\n",
        "total_time = end_time-start_time\n",
        "total_time = \"{:.3f}\".format(total_time)\n",
        "\n",
        "print(f'Total execution time for CNN with pooling and padding:: {total_time} seconds')"
      ]
    },
    {
      "cell_type": "markdown",
      "metadata": {
        "id": "E9kQpEJEGaE3"
      },
      "source": [
        "With pooling and padding the training proccess is much faster"
      ]
    },
    {
      "cell_type": "code",
      "execution_count": null,
      "metadata": {
        "colab": {
          "base_uri": "https://localhost:8080/",
          "height": 415
        },
        "id": "VGtVL2hEjqru",
        "outputId": "29979e2f-1f1c-4671-a53b-17b99d7e4ac6"
      },
      "outputs": [
        {
          "data": {
            "image/png": "[encoded data removed]",
            "text/plain": [
              "<Figure size 600x400 with 1 Axes>"
            ]
          },
          "metadata": {},
          "output_type": "display_data"
        }
      ],
      "source": [
        "plot_loss_acc(train_loss_list_CNN_pool_pad, valid_loss_list_CNN_pool_pad, train_acc_list_CNN_pool_pad, valid_acc_list_CNN_pool_pad, CNN_pool_pad_n_epochs, append_to_tile = \"\")"
      ]
    },
    {
      "cell_type": "markdown",
      "metadata": {
        "id": "AMO8o_HZF89t"
      },
      "source": [
        "The complexity of the model seem to decrease with the use of pooling and padding. These operations help the model capture relevant features and patterns, improve translation invariance, and maintain the spatial resolution of the input data."
      ]
    },
    {
      "cell_type": "markdown",
      "metadata": {
        "id": "rE2f24c1HBaD"
      },
      "source": [
        "### Test model with pooling and padding"
      ]
    },
    {
      "cell_type": "code",
      "execution_count": null,
      "metadata": {
        "colab": {
          "base_uri": "https://localhost:8080/"
        },
        "id": "6R605tMWHA1k",
        "outputId": "2ec83f79-2c86-460f-cda4-be503681e415"
      },
      "outputs": [
        {
          "name": "stdout",
          "output_type": "stream",
          "text": [
            "Test Loss: 0.983 |  Test Acc: 57.34% | Test F1: 30.06%\n",
            "\n"
          ]
        }
      ],
      "source": [
        "test_loss, test_acc, test_f1 = evaluate_CNN(CNN_pool_pad_model, test_melgs_dataloader, CNN_pool_pad_criterion)\n",
        "print(f'Test Loss: {test_loss:.3f} |  Test Acc: {test_acc*100:.2f}% | Test F1: {test_f1*100:.2f}%\\n')"
      ]
    },
    {
      "cell_type": "markdown",
      "metadata": {
        "id": "WBZ0LGKQHO5v"
      },
      "source": [
        "The scores with pooling and padding are worse"
      ]
    },
    {
      "cell_type": "markdown",
      "metadata": {
        "id": "Gu63SvdnLE_F"
      },
      "source": [
        "## Improving Performance"
      ]
    },
    {
      "cell_type": "code",
      "execution_count": 26,
      "metadata": {
        "colab": {
          "base_uri": "https://localhost:8080/"
        },
        "id": "mU2FgPfnJUaf",
        "outputId": "39c99be0-5a08-4e79-f2fa-1a4653480a23"
      },
      "outputs": [
        {
          "name": "stdout",
          "output_type": "stream",
          "text": [
            "Collecting optuna\n",
            "  Downloading optuna-3.2.0-py3-none-any.whl (390 kB)\n",
            "\u001b[2K     \u001b[90m━━━━━━━━━━━━━━━━━━━━━━━━━━━━━━━━━━━━━━\u001b[0m \u001b[32m390.6/390.6 kB\u001b[0m \u001b[31m17.6 MB/s\u001b[0m eta \u001b[36m0:00:00\u001b[0m\n",
            "\u001b[?25hCollecting alembic>=1.5.0 (from optuna)\n",
            "  Downloading alembic-1.11.1-py3-none-any.whl (224 kB)\n",
            "\u001b[2K     \u001b[90m━━━━━━━━━━━━━━━━━━━━━━━━━━━━━━━━━━━━━━\u001b[0m \u001b[32m224.5/224.5 kB\u001b[0m \u001b[31m29.0 MB/s\u001b[0m eta \u001b[36m0:00:00\u001b[0m\n",
            "\u001b[?25hCollecting cmaes>=0.9.1 (from optuna)\n",
            "  Downloading cmaes-0.9.1-py3-none-any.whl (21 kB)\n",
            "Collecting colorlog (from optuna)\n",
            "  Downloading colorlog-6.7.0-py2.py3-none-any.whl (11 kB)\n",
            "Requirement already satisfied: numpy in /usr/local/lib/python3.10/dist-packages (from optuna) (1.22.4)\n",
            "Requirement already satisfied: packaging>=20.0 in /usr/local/lib/python3.10/dist-packages (from optuna) (23.1)\n",
            "Requirement already satisfied: sqlalchemy>=1.3.0 in /usr/local/lib/python3.10/dist-packages (from optuna) (2.0.16)\n",
            "Requirement already satisfied: tqdm in /usr/local/lib/python3.10/dist-packages (from optuna) (4.65.0)\n",
            "Requirement already satisfied: PyYAML in /usr/local/lib/python3.10/dist-packages (from optuna) (6.0)\n",
            "Collecting Mako (from alembic>=1.5.0->optuna)\n",
            "  Downloading Mako-1.2.4-py3-none-any.whl (78 kB)\n",
            "\u001b[2K     \u001b[90m━━━━━━━━━━━━━━━━━━━━━━━━━━━━━━━━━━━━━━━━\u001b[0m \u001b[32m78.7/78.7 kB\u001b[0m \u001b[31m12.6 MB/s\u001b[0m eta \u001b[36m0:00:00\u001b[0m\n",
            "\u001b[?25hRequirement already satisfied: typing-extensions>=4 in /usr/local/lib/python3.10/dist-packages (from alembic>=1.5.0->optuna) (4.6.3)\n",
            "Requirement already satisfied: greenlet!=0.4.17 in /usr/local/lib/python3.10/dist-packages (from sqlalchemy>=1.3.0->optuna) (2.0.2)\n",
            "Requirement already satisfied: MarkupSafe>=0.9.2 in /usr/local/lib/python3.10/dist-packages (from Mako->alembic>=1.5.0->optuna) (2.1.3)\n",
            "Installing collected packages: Mako, colorlog, cmaes, alembic, optuna\n",
            "Successfully installed Mako-1.2.4 alembic-1.11.1 cmaes-0.9.1 colorlog-6.7.0 optuna-3.2.0\n"
          ]
        }
      ],
      "source": [
        "pip install optuna"
      ]
    },
    {
      "cell_type": "code",
      "execution_count": 27,
      "metadata": {
        "id": "FT4W6y5NwLM5"
      },
      "outputs": [],
      "source": [
        "import optuna"
      ]
    },
    {
      "cell_type": "markdown",
      "metadata": {
        "id": "q2Psv_kDHWK9"
      },
      "source": [
        "### Experiment with Optimizers"
      ]
    },
    {
      "cell_type": "code",
      "execution_count": 33,
      "metadata": {
        "colab": {
          "base_uri": "https://localhost:8080/"
        },
        "id": "Fh6tGTi-JNdq",
        "outputId": "0e753f19-953b-404c-fd19-f34a6e6dd260"
      },
      "outputs": [
        {
          "name": "stderr",
          "output_type": "stream",
          "text": [
            "[I 2023-07-06 15:10:47,710] A new study created in memory with name: no-name-4ed41012-0a45-46b4-96dd-6641f1a5e8ac\n",
            "[I 2023-07-06 15:11:11,254] Trial 0 finished with value: 0.2737462929227635 and parameters: {'epoch': 10, 'learning_rate': 0.001}. Best is trial 0 with value: 0.2737462929227635.\n",
            "[I 2023-07-06 15:11:20,159] Trial 1 finished with value: 0.18339978734715573 and parameters: {'epoch': 5, 'learning_rate': 0.001}. Best is trial 0 with value: 0.2737462929227635.\n",
            "[I 2023-07-06 15:11:38,189] Trial 2 finished with value: 0.5983475274725274 and parameters: {'epoch': 10, 'learning_rate': 0.01}. Best is trial 2 with value: 0.5983475274725274.\n",
            "[I 2023-07-06 15:11:48,959] Trial 3 finished with value: 0.22970697113344166 and parameters: {'epoch': 5, 'learning_rate': 0.001}. Best is trial 2 with value: 0.5983475274725274.\n",
            "[I 2023-07-06 15:12:22,502] Trial 4 finished with value: 0.5341110115374821 and parameters: {'epoch': 15, 'learning_rate': 0.01}. Best is trial 2 with value: 0.5983475274725274.\n",
            "[I 2023-07-06 15:12:45,722] Trial 5 finished with value: 0.18337978833097618 and parameters: {'epoch': 10, 'learning_rate': 0.0001}. Best is trial 2 with value: 0.5983475274725274.\n",
            "[I 2023-07-06 15:13:10,047] Trial 6 finished with value: 0.09811664633955651 and parameters: {'epoch': 15, 'learning_rate': 1e-05}. Best is trial 2 with value: 0.5983475274725274.\n",
            "[I 2023-07-06 15:13:25,736] Trial 7 finished with value: 0.09895762307419323 and parameters: {'epoch': 10, 'learning_rate': 0.0001}. Best is trial 2 with value: 0.5983475274725274.\n",
            "[I 2023-07-06 15:13:57,986] Trial 8 finished with value: 0.18167912806148095 and parameters: {'epoch': 20, 'learning_rate': 1e-05}. Best is trial 2 with value: 0.5983475274725274.\n",
            "[I 2023-07-06 15:14:06,193] Trial 9 finished with value: 0.19465900989275603 and parameters: {'epoch': 5, 'learning_rate': 1e-05}. Best is trial 2 with value: 0.5983475274725274.\n",
            "[I 2023-07-06 15:14:22,516] A new study created in memory with name: no-name-58abe761-1a80-4bda-bae8-26bb9fb2c275\n",
            "[I 2023-07-06 15:14:31,750] Trial 0 finished with value: 0.4629817322340542 and parameters: {'epoch': 5, 'learning_rate': 0.0001}. Best is trial 0 with value: 0.4629817322340542.\n",
            "[I 2023-07-06 15:14:39,895] Trial 1 finished with value: 0.6975217290879059 and parameters: {'epoch': 5, 'learning_rate': 0.001}. Best is trial 1 with value: 0.6975217290879059.\n",
            "[I 2023-07-06 15:15:06,583] Trial 2 finished with value: 0.717972389538566 and parameters: {'epoch': 15, 'learning_rate': 0.01}. Best is trial 2 with value: 0.717972389538566.\n",
            "[I 2023-07-06 15:15:39,087] Trial 3 finished with value: 0.1158601156848565 and parameters: {'epoch': 20, 'learning_rate': 1e-05}. Best is trial 2 with value: 0.717972389538566.\n",
            "[I 2023-07-06 15:15:55,057] Trial 4 finished with value: 0.6487922355422355 and parameters: {'epoch': 10, 'learning_rate': 0.001}. Best is trial 2 with value: 0.717972389538566.\n",
            "[I 2023-07-06 15:16:11,554] Trial 5 finished with value: 0.6801259483980071 and parameters: {'epoch': 10, 'learning_rate': 0.001}. Best is trial 2 with value: 0.717972389538566.\n",
            "[I 2023-07-06 15:16:44,222] Trial 6 finished with value: 0.6542027928212139 and parameters: {'epoch': 20, 'learning_rate': 0.0001}. Best is trial 2 with value: 0.717972389538566.\n",
            "[I 2023-07-06 15:17:07,650] Trial 7 finished with value: 0.49998167110667113 and parameters: {'epoch': 15, 'learning_rate': 0.0001}. Best is trial 2 with value: 0.717972389538566.\n",
            "[I 2023-07-06 15:17:15,876] Trial 8 finished with value: 0.10603954414440347 and parameters: {'epoch': 5, 'learning_rate': 1e-05}. Best is trial 2 with value: 0.717972389538566.\n",
            "[I 2023-07-06 15:17:24,041] Trial 9 finished with value: 0.5391823271757482 and parameters: {'epoch': 5, 'learning_rate': 0.0001}. Best is trial 2 with value: 0.717972389538566.\n",
            "[I 2023-07-06 15:17:43,047] A new study created in memory with name: no-name-bae22e8c-14b6-4e72-a0e2-58537a1ea448\n",
            "[I 2023-07-06 15:17:58,705] Trial 0 finished with value: 0.6523650701150701 and parameters: {'epoch': 10, 'learning_rate': 1e-05}. Best is trial 0 with value: 0.6523650701150701.\n",
            "[I 2023-07-06 15:18:14,478] Trial 1 finished with value: 0.6263794971368501 and parameters: {'epoch': 10, 'learning_rate': 0.001}. Best is trial 0 with value: 0.6523650701150701.\n",
            "[I 2023-07-06 15:18:45,570] Trial 2 finished with value: 0.7346861194361195 and parameters: {'epoch': 20, 'learning_rate': 0.0001}. Best is trial 2 with value: 0.7346861194361195.\n",
            "[I 2023-07-06 15:18:53,418] Trial 3 finished with value: 0.42050764874100793 and parameters: {'epoch': 5, 'learning_rate': 0.01}. Best is trial 2 with value: 0.7346861194361195.\n",
            "[I 2023-07-06 15:19:16,282] Trial 4 finished with value: 0.6915527733360551 and parameters: {'epoch': 15, 'learning_rate': 0.001}. Best is trial 2 with value: 0.7346861194361195.\n",
            "[I 2023-07-06 15:19:47,655] Trial 5 finished with value: 0.718759079886402 and parameters: {'epoch': 20, 'learning_rate': 1e-05}. Best is trial 2 with value: 0.7346861194361195.\n",
            "[I 2023-07-06 15:20:10,590] Trial 6 finished with value: 0.6694242065124417 and parameters: {'epoch': 15, 'learning_rate': 1e-05}. Best is trial 2 with value: 0.7346861194361195.\n",
            "[I 2023-07-06 15:20:41,502] Trial 7 finished with value: 0.6377606182890712 and parameters: {'epoch': 20, 'learning_rate': 0.001}. Best is trial 2 with value: 0.7346861194361195.\n",
            "[I 2023-07-06 15:20:56,898] Trial 8 finished with value: 0.09776808836009263 and parameters: {'epoch': 10, 'learning_rate': 0.01}. Best is trial 2 with value: 0.7346861194361195.\n",
            "[I 2023-07-06 15:21:27,608] Trial 9 finished with value: 0.6674800893550895 and parameters: {'epoch': 20, 'learning_rate': 1e-05}. Best is trial 2 with value: 0.7346861194361195.\n",
            "[I 2023-07-06 15:21:52,367] A new study created in memory with name: no-name-576064d7-51c6-43a2-b54b-23ca7c90a4ce\n",
            "[I 2023-07-06 15:22:23,925] Trial 0 finished with value: 0.6733026148687913 and parameters: {'epoch': 20, 'learning_rate': 1e-05}. Best is trial 0 with value: 0.6733026148687913.\n",
            "[I 2023-07-06 15:22:31,316] Trial 1 finished with value: 0.7124065656565658 and parameters: {'epoch': 5, 'learning_rate': 0.0001}. Best is trial 1 with value: 0.7124065656565658.\n",
            "[I 2023-07-06 15:22:39,401] Trial 2 finished with value: 0.5118243408208578 and parameters: {'epoch': 5, 'learning_rate': 1e-05}. Best is trial 1 with value: 0.7124065656565658.\n",
            "[I 2023-07-06 15:23:10,626] Trial 3 finished with value: 0.097291863930927 and parameters: {'epoch': 20, 'learning_rate': 0.01}. Best is trial 1 with value: 0.7124065656565658.\n",
            "[I 2023-07-06 15:23:42,116] Trial 4 finished with value: 0.6521307442557442 and parameters: {'epoch': 20, 'learning_rate': 1e-05}. Best is trial 1 with value: 0.7124065656565658.\n",
            "[I 2023-07-06 15:23:49,556] Trial 5 finished with value: 0.09768738477986018 and parameters: {'epoch': 5, 'learning_rate': 0.01}. Best is trial 1 with value: 0.7124065656565658.\n",
            "[I 2023-07-06 15:24:13,027] Trial 6 finished with value: 0.6896000249750251 and parameters: {'epoch': 15, 'learning_rate': 0.001}. Best is trial 1 with value: 0.7124065656565658.\n",
            "[I 2023-07-06 15:24:21,105] Trial 7 finished with value: 0.6099807610689963 and parameters: {'epoch': 5, 'learning_rate': 0.0001}. Best is trial 1 with value: 0.7124065656565658.\n",
            "[I 2023-07-06 15:24:36,545] Trial 8 finished with value: 0.6278190885911473 and parameters: {'epoch': 10, 'learning_rate': 1e-05}. Best is trial 1 with value: 0.7124065656565658.\n",
            "[I 2023-07-06 15:24:51,970] Trial 9 finished with value: 0.7078749216469806 and parameters: {'epoch': 10, 'learning_rate': 0.001}. Best is trial 1 with value: 0.7124065656565658.\n",
            "[I 2023-07-06 15:24:58,953] A new study created in memory with name: no-name-7e50e2f7-3b31-485a-990a-1128eb4f3415\n",
            "[I 2023-07-06 15:25:32,331] Trial 0 finished with value: 0.4876827249977405 and parameters: {'epoch': 20, 'learning_rate': 1e-05}. Best is trial 0 with value: 0.4876827249977405.\n",
            "[I 2023-07-06 15:26:06,511] Trial 1 finished with value: 0.7005667804417804 and parameters: {'epoch': 20, 'learning_rate': 0.01}. Best is trial 1 with value: 0.7005667804417804.\n",
            "[I 2023-07-06 15:26:23,223] Trial 2 finished with value: 0.6908200826950828 and parameters: {'epoch': 10, 'learning_rate': 0.0001}. Best is trial 1 with value: 0.7005667804417804.\n",
            "[I 2023-07-06 15:26:32,095] Trial 3 finished with value: 0.5665758963258961 and parameters: {'epoch': 5, 'learning_rate': 0.0001}. Best is trial 1 with value: 0.7005667804417804.\n",
            "[I 2023-07-06 15:27:06,631] Trial 4 finished with value: 0.7145233949057481 and parameters: {'epoch': 20, 'learning_rate': 0.01}. Best is trial 4 with value: 0.7145233949057481.\n",
            "[I 2023-07-06 15:27:40,300] Trial 5 finished with value: 0.7254836552336552 and parameters: {'epoch': 20, 'learning_rate': 0.001}. Best is trial 5 with value: 0.7254836552336552.\n",
            "[I 2023-07-06 15:27:57,968] Trial 6 finished with value: 0.6257011925982514 and parameters: {'epoch': 10, 'learning_rate': 0.0001}. Best is trial 5 with value: 0.7254836552336552.\n",
            "[I 2023-07-06 15:28:23,939] Trial 7 finished with value: 0.7168939540851305 and parameters: {'epoch': 15, 'learning_rate': 0.001}. Best is trial 5 with value: 0.7254836552336552.\n",
            "[I 2023-07-06 15:28:40,687] Trial 8 finished with value: 0.41413322788322804 and parameters: {'epoch': 10, 'learning_rate': 1e-05}. Best is trial 5 with value: 0.7254836552336552.\n",
            "[I 2023-07-06 15:28:57,537] Trial 9 finished with value: 0.656227994227994 and parameters: {'epoch': 10, 'learning_rate': 0.01}. Best is trial 5 with value: 0.7254836552336552.\n"
          ]
        }
      ],
      "source": [
        "#SparseAdam does not support dense gradients\n",
        "optimizers = ['Adadelta', 'Adagrad', 'Adam', 'AdamW', 'Adamax']\n",
        "epoch_choices = [5, 10, 15, 20]\n",
        "learning_rate_choices = [0.00001, 0.0001, 0.001, 0.01]\n",
        "\n",
        "results = []\n",
        "\n",
        "for optimizer_name in optimizers:\n",
        "    def objective(trial):\n",
        "        epoch = trial.suggest_categorical('epoch', epoch_choices)\n",
        "        learning_rate = trial.suggest_categorical('learning_rate', learning_rate_choices)\n",
        "        set_seeds(seed)\n",
        "        CNN_pool_pad_model = CNN_pool_pad(CNN_pool_pad_out_dim,nn.ReLU)\n",
        "        CNN_pool_pad_model.to(device)\n",
        "\n",
        "        optimizer = getattr(optim, optimizer_name)(CNN_pool_pad_model.parameters(), lr=learning_rate)\n",
        "        train_loss_list, train_acc_list, valid_loss_list, valid_acc_list, valid_f1_list = train_eval_CNN(\n",
        "            CNN_pool_pad_model, epoch, optimizer, CNN_pool_pad_criterion, train_melgs_dataloader, val_melgs_dataloader, [], False, None)\n",
        "\n",
        "\n",
        "        #_, _, valid_f1 = evaluate_CNN(CNN_pool_pad_model, test_melgs_dataloader, CNN_pool_pad_criterion)\n",
        "\n",
        "        return valid_f1_list[-1]\n",
        "\n",
        "    study = optuna.create_study(direction='maximize')\n",
        "    study.optimize(objective, n_trials=10)\n",
        "\n",
        "    # Access the best hyperparameters and evaluation score\n",
        "    best_params = study.best_params\n",
        "\n",
        "    #train the model with best hyperparamters and the current optimizer\n",
        "    set_seeds(seed)\n",
        "    CNN_pool_pad_model = CNN_pool_pad(CNN_pool_pad_out_dim,nn.ReLU)\n",
        "    CNN_pool_pad_model.to(device)\n",
        "    optimizer = getattr(optim, optimizer_name)(CNN_pool_pad_model.parameters(), lr=best_params['learning_rate'])\n",
        "    for i in range(best_params['epoch']):\n",
        "      train_CNN(CNN_pool_pad_model, train_melgs_dataloader, optimizer, CNN_pool_pad_criterion)\n",
        "\n",
        "    #get accuracy, f1 score on test dataset\n",
        "    test_loss, test_acc, test_f1 = evaluate_CNN(CNN_pool_pad_model, test_melgs_dataloader, CNN_pool_pad_criterion)\n",
        "    test_acc = \"{:.2f}\".format(test_acc*100) + '%'\n",
        "    test_f1 = \"{:.2f}\".format(test_f1*100) + '%'\n",
        "    results.append([optimizer_name, test_acc, test_f1, best_params['epoch'], best_params['learning_rate']])"
      ]
    },
    {
      "cell_type": "code",
      "execution_count": 34,
      "metadata": {
        "colab": {
          "base_uri": "https://localhost:8080/"
        },
        "id": "AalUIgS0uQqR",
        "outputId": "2d64aa18-0e19-4796-c463-d63651e01a9c"
      },
      "outputs": [
        {
          "name": "stdout",
          "output_type": "stream",
          "text": [
            "+-------------+-----------------+-----------------+---------------+----------------------+\n",
            "| Optimizer   | Test Accuracy   | Test F1 Score   |   Best Epochs |   Best Learning Rate |\n",
            "+=============+=================+=================+===============+======================+\n",
            "| Adadelta    | 59.08%          | 33.15%          |            10 |               0.01   |\n",
            "+-------------+-----------------+-----------------+---------------+----------------------+\n",
            "| Adagrad     | 70.71%          | 37.02%          |            15 |               0.01   |\n",
            "+-------------+-----------------+-----------------+---------------+----------------------+\n",
            "| Adam        | 74.06%          | 37.81%          |            20 |               0.0001 |\n",
            "+-------------+-----------------+-----------------+---------------+----------------------+\n",
            "| AdamW       | 68.75%          | 36.83%          |             5 |               0.0001 |\n",
            "+-------------+-----------------+-----------------+---------------+----------------------+\n",
            "| Adamax      | 70.64%          | 36.72%          |            20 |               0.001  |\n",
            "+-------------+-----------------+-----------------+---------------+----------------------+\n"
          ]
        }
      ],
      "source": [
        "headers = [\"Optimizer\", \"Test Accuracy\", \"Test F1 Score\", \"Best Epochs\", \"Best Learning Rate\"]\n",
        "print(tabulate(results, headers, tablefmt=\"grid\"))"
      ]
    },
    {
      "cell_type": "markdown",
      "metadata": {
        "id": "fZjV9_6g2cWZ"
      },
      "source": [
        "From the given results, it appears that Adam generally outperforms the other optimizers in terms of both accuracy and F1 score. Adagrad and Adamax show relatively similar performance but are slightly behind Adam. AdamW and Adadelta exhibit lower accuracy and F1 scores compared to the other activation functions."
      ]
    },
    {
      "cell_type": "markdown",
      "metadata": {
        "id": "nlKrra2WqCRc"
      },
      "source": [
        "### Experiment with Activation Functions"
      ]
    },
    {
      "cell_type": "code",
      "execution_count": 35,
      "metadata": {
        "colab": {
          "base_uri": "https://localhost:8080/"
        },
        "id": "LKpfZ1OWqLv9",
        "outputId": "ece13139-1ecc-4536-85e5-7ce6b5a61607"
      },
      "outputs": [
        {
          "name": "stderr",
          "output_type": "stream",
          "text": [
            "[I 2023-07-06 15:29:25,644] A new study created in memory with name: no-name-4d35ba38-8f88-4019-a3f9-636763fc613f\n",
            "[I 2023-07-06 15:29:49,004] Trial 0 finished with value: 0.6176670437405732 and parameters: {'epoch': 15, 'learning_rate': 1e-05}. Best is trial 0 with value: 0.6176670437405732.\n",
            "[I 2023-07-06 15:29:57,040] Trial 1 finished with value: 0.5407144849904137 and parameters: {'epoch': 5, 'learning_rate': 0.001}. Best is trial 0 with value: 0.6176670437405732.\n",
            "[I 2023-07-06 15:30:12,404] Trial 2 finished with value: 0.5873393718854244 and parameters: {'epoch': 10, 'learning_rate': 1e-05}. Best is trial 0 with value: 0.6176670437405732.\n",
            "[I 2023-07-06 15:30:27,624] Trial 3 finished with value: 0.7105222555222557 and parameters: {'epoch': 10, 'learning_rate': 0.0001}. Best is trial 3 with value: 0.7105222555222557.\n",
            "[I 2023-07-06 15:30:50,952] Trial 4 finished with value: 0.651291792357969 and parameters: {'epoch': 15, 'learning_rate': 1e-05}. Best is trial 3 with value: 0.7105222555222557.\n",
            "[I 2023-07-06 15:31:06,386] Trial 5 finished with value: 0.6886126014508368 and parameters: {'epoch': 10, 'learning_rate': 0.001}. Best is trial 3 with value: 0.7105222555222557.\n",
            "[I 2023-07-06 15:31:14,403] Trial 6 finished with value: 0.5200656035141329 and parameters: {'epoch': 5, 'learning_rate': 0.01}. Best is trial 3 with value: 0.7105222555222557.\n",
            "[I 2023-07-06 15:31:21,795] Trial 7 finished with value: 0.6325197302697305 and parameters: {'epoch': 5, 'learning_rate': 0.0001}. Best is trial 3 with value: 0.7105222555222557.\n",
            "[I 2023-07-06 15:31:53,114] Trial 8 finished with value: 0.5739274198024198 and parameters: {'epoch': 20, 'learning_rate': 0.01}. Best is trial 3 with value: 0.7105222555222557.\n",
            "[I 2023-07-06 15:32:23,708] Trial 9 finished with value: 0.5971703574203575 and parameters: {'epoch': 20, 'learning_rate': 1e-05}. Best is trial 3 with value: 0.7105222555222557.\n",
            "[I 2023-07-06 15:32:36,401] A new study created in memory with name: no-name-38312e40-d080-4305-8370-8f47418cbe58\n",
            "[I 2023-07-06 15:32:59,835] Trial 0 finished with value: 0.7411388072711602 and parameters: {'epoch': 15, 'learning_rate': 1e-05}. Best is trial 0 with value: 0.7411388072711602.\n",
            "[I 2023-07-06 15:33:07,901] Trial 1 finished with value: 0.09884142348430941 and parameters: {'epoch': 5, 'learning_rate': 0.01}. Best is trial 0 with value: 0.7411388072711602.\n",
            "[I 2023-07-06 15:33:38,718] Trial 2 finished with value: 0.7240606338106339 and parameters: {'epoch': 20, 'learning_rate': 1e-05}. Best is trial 0 with value: 0.7411388072711602.\n",
            "[I 2023-07-06 15:34:09,450] Trial 3 finished with value: 0.7046462157123924 and parameters: {'epoch': 20, 'learning_rate': 0.001}. Best is trial 0 with value: 0.7411388072711602.\n",
            "[I 2023-07-06 15:34:25,480] Trial 4 finished with value: 0.6994333591245356 and parameters: {'epoch': 10, 'learning_rate': 0.001}. Best is trial 0 with value: 0.7411388072711602.\n",
            "[I 2023-07-06 15:34:56,147] Trial 5 finished with value: 0.7553638077608666 and parameters: {'epoch': 20, 'learning_rate': 1e-05}. Best is trial 5 with value: 0.7553638077608666.\n",
            "[I 2023-07-06 15:35:26,826] Trial 6 finished with value: 0.6813929379444085 and parameters: {'epoch': 20, 'learning_rate': 1e-05}. Best is trial 5 with value: 0.7553638077608666.\n",
            "[I 2023-07-06 15:35:42,799] Trial 7 finished with value: 0.6965400016650016 and parameters: {'epoch': 10, 'learning_rate': 0.001}. Best is trial 5 with value: 0.7553638077608666.\n",
            "[I 2023-07-06 15:35:50,208] Trial 8 finished with value: 0.7653986245236246 and parameters: {'epoch': 5, 'learning_rate': 0.0001}. Best is trial 8 with value: 0.7653986245236246.\n",
            "[I 2023-07-06 15:36:05,619] Trial 9 finished with value: 0.09985873508791795 and parameters: {'epoch': 10, 'learning_rate': 0.01}. Best is trial 8 with value: 0.7653986245236246.\n",
            "[I 2023-07-06 15:36:12,634] A new study created in memory with name: no-name-b5b1d483-f250-4e92-a573-fc4525015aab\n",
            "[I 2023-07-06 15:36:36,005] Trial 0 finished with value: 0.6111185089420383 and parameters: {'epoch': 15, 'learning_rate': 1e-05}. Best is trial 0 with value: 0.6111185089420383.\n",
            "[I 2023-07-06 15:37:07,062] Trial 1 finished with value: 0.66734502099208 and parameters: {'epoch': 20, 'learning_rate': 0.001}. Best is trial 1 with value: 0.66734502099208.\n",
            "[I 2023-07-06 15:37:38,653] Trial 2 finished with value: 0.6556973165723167 and parameters: {'epoch': 20, 'learning_rate': 1e-05}. Best is trial 1 with value: 0.66734502099208.\n",
            "[I 2023-07-06 15:38:01,758] Trial 3 finished with value: 0.7525163910163909 and parameters: {'epoch': 15, 'learning_rate': 0.0001}. Best is trial 3 with value: 0.7525163910163909.\n",
            "[I 2023-07-06 15:38:33,345] Trial 4 finished with value: 0.7271183032653623 and parameters: {'epoch': 20, 'learning_rate': 0.0001}. Best is trial 3 with value: 0.7525163910163909.\n",
            "[I 2023-07-06 15:38:49,015] Trial 5 finished with value: 0.7348298497598031 and parameters: {'epoch': 10, 'learning_rate': 0.0001}. Best is trial 3 with value: 0.7525163910163909.\n",
            "[I 2023-07-06 15:39:20,078] Trial 6 finished with value: 0.7248248026128462 and parameters: {'epoch': 20, 'learning_rate': 0.0001}. Best is trial 3 with value: 0.7525163910163909.\n",
            "[I 2023-07-06 15:39:36,005] Trial 7 finished with value: 0.5899182394402983 and parameters: {'epoch': 10, 'learning_rate': 1e-05}. Best is trial 3 with value: 0.7525163910163909.\n",
            "[I 2023-07-06 15:39:43,431] Trial 8 finished with value: 0.10542522529780234 and parameters: {'epoch': 5, 'learning_rate': 0.01}. Best is trial 3 with value: 0.7525163910163909.\n",
            "[I 2023-07-06 15:40:15,041] Trial 9 finished with value: 0.2556639139154619 and parameters: {'epoch': 20, 'learning_rate': 0.01}. Best is trial 3 with value: 0.7525163910163909.\n",
            "[I 2023-07-06 15:40:33,732] A new study created in memory with name: no-name-919bc86f-9015-478f-aeac-c4efc102b3f5\n",
            "[I 2023-07-06 15:40:42,277] Trial 0 finished with value: 0.15101725922855957 and parameters: {'epoch': 5, 'learning_rate': 0.01}. Best is trial 0 with value: 0.15101725922855957.\n",
            "[I 2023-07-06 15:41:14,737] Trial 1 finished with value: 0.7142976378196966 and parameters: {'epoch': 20, 'learning_rate': 0.001}. Best is trial 1 with value: 0.7142976378196966.\n",
            "[I 2023-07-06 15:41:39,351] Trial 2 finished with value: 0.7092084875908402 and parameters: {'epoch': 15, 'learning_rate': 0.001}. Best is trial 1 with value: 0.7142976378196966.\n",
            "[I 2023-07-06 15:41:48,014] Trial 3 finished with value: 0.7193783323659487 and parameters: {'epoch': 5, 'learning_rate': 0.0001}. Best is trial 3 with value: 0.7193783323659487.\n",
            "[I 2023-07-06 15:42:12,671] Trial 4 finished with value: 0.6348467055819994 and parameters: {'epoch': 15, 'learning_rate': 1e-05}. Best is trial 3 with value: 0.7193783323659487.\n",
            "[I 2023-07-06 15:42:44,936] Trial 5 finished with value: 0.5549597500452763 and parameters: {'epoch': 20, 'learning_rate': 0.01}. Best is trial 3 with value: 0.7193783323659487.\n",
            "[I 2023-07-06 15:43:01,915] Trial 6 finished with value: 0.6266302863802865 and parameters: {'epoch': 10, 'learning_rate': 1e-05}. Best is trial 3 with value: 0.7193783323659487.\n",
            "[I 2023-07-06 15:43:09,691] Trial 7 finished with value: 0.6744068020472818 and parameters: {'epoch': 5, 'learning_rate': 0.0001}. Best is trial 3 with value: 0.7193783323659487.\n",
            "[I 2023-07-06 15:43:34,414] Trial 8 finished with value: 0.691688123967536 and parameters: {'epoch': 15, 'learning_rate': 0.001}. Best is trial 3 with value: 0.7193783323659487.\n",
            "[I 2023-07-06 15:44:07,880] Trial 9 finished with value: 0.7449524087024086 and parameters: {'epoch': 20, 'learning_rate': 0.0001}. Best is trial 9 with value: 0.7449524087024086.\n",
            "[I 2023-07-06 15:44:34,477] A new study created in memory with name: no-name-bc6189d8-3f52-407c-8c5f-84b5110d3a27\n",
            "[I 2023-07-06 15:44:41,840] Trial 0 finished with value: 0.6893305411908355 and parameters: {'epoch': 5, 'learning_rate': 0.0001}. Best is trial 0 with value: 0.6893305411908355.\n",
            "[I 2023-07-06 15:44:58,152] Trial 1 finished with value: 0.6295080115962469 and parameters: {'epoch': 10, 'learning_rate': 1e-05}. Best is trial 0 with value: 0.6893305411908355.\n",
            "[I 2023-07-06 15:45:13,660] Trial 2 finished with value: 0.7063365153365155 and parameters: {'epoch': 10, 'learning_rate': 0.001}. Best is trial 2 with value: 0.7063365153365155.\n",
            "[I 2023-07-06 15:45:37,238] Trial 3 finished with value: 0.577586798822093 and parameters: {'epoch': 15, 'learning_rate': 1e-05}. Best is trial 2 with value: 0.7063365153365155.\n",
            "[I 2023-07-06 15:46:08,363] Trial 4 finished with value: 0.7128639971139973 and parameters: {'epoch': 20, 'learning_rate': 1e-05}. Best is trial 4 with value: 0.7128639971139973.\n",
            "[I 2023-07-06 15:46:31,984] Trial 5 finished with value: 0.6156308413808413 and parameters: {'epoch': 15, 'learning_rate': 1e-05}. Best is trial 4 with value: 0.7128639971139973.\n",
            "[I 2023-07-06 15:46:39,754] Trial 6 finished with value: 0.5152949901405784 and parameters: {'epoch': 5, 'learning_rate': 0.01}. Best is trial 4 with value: 0.7128639971139973.\n",
            "[I 2023-07-06 15:46:55,664] Trial 7 finished with value: 0.7073520335873278 and parameters: {'epoch': 10, 'learning_rate': 0.001}. Best is trial 4 with value: 0.7128639971139973.\n",
            "[I 2023-07-06 15:47:19,293] Trial 8 finished with value: 0.09965975739161897 and parameters: {'epoch': 15, 'learning_rate': 0.01}. Best is trial 4 with value: 0.7128639971139973.\n",
            "[I 2023-07-06 15:47:26,878] Trial 9 finished with value: 0.6599243779096721 and parameters: {'epoch': 5, 'learning_rate': 0.0001}. Best is trial 4 with value: 0.7128639971139973.\n"
          ]
        }
      ],
      "source": [
        "activation_functions = ['Hardshrink', 'Hardswish', 'LeakyReLU', 'PReLU', 'ReLU']\n",
        "epoch_choices = [5, 10, 15, 20]\n",
        "learning_rate_choices = [0.00001, 0.0001, 0.001, 0.01]\n",
        "\n",
        "results = []\n",
        "\n",
        "for activation_str in activation_functions:\n",
        "    def objective(trial):\n",
        "        epoch = trial.suggest_categorical('epoch', epoch_choices)\n",
        "        learning_rate = trial.suggest_categorical('learning_rate', learning_rate_choices)\n",
        "\n",
        "        activation_function = eval('nn.' + activation_str)\n",
        "        set_seeds(seed)\n",
        "        CNN_pool_pad_model = CNN_pool_pad(CNN_pool_pad_out_dim,activation_function)\n",
        "        CNN_pool_pad_model.to(device)\n",
        "\n",
        "        optimizer = optim.Adam(CNN_pool_pad_model.parameters(), lr=learning_rate)\n",
        "        train_loss_list, train_acc_list, valid_loss_list, valid_acc_list, valid_f1_list = train_eval_CNN(\n",
        "            CNN_pool_pad_model, epoch, optimizer, CNN_pool_pad_criterion, train_melgs_dataloader, val_melgs_dataloader, [], False, None)\n",
        "\n",
        "\n",
        "        #_, _, valid_f1 = evaluate_CNN(CNN_pool_pad_model, test_melgs_dataloader, CNN_pool_pad_criterion)\n",
        "\n",
        "        return valid_f1_list[-1]\n",
        "\n",
        "    study = optuna.create_study(direction='maximize')\n",
        "    study.optimize(objective, n_trials=10)\n",
        "\n",
        "    # Access the best hyperparameters and evaluation score\n",
        "    best_params = study.best_params\n",
        "\n",
        "    #train the model with best hyperparamters and the current optimizer\n",
        "    activation_function = eval('nn.' + activation_str)\n",
        "    set_seeds(seed)\n",
        "    CNN_pool_pad_model = CNN_pool_pad(CNN_pool_pad_out_dim,activation_function)\n",
        "    CNN_pool_pad_model.to(device)\n",
        "    optimizer = optim.Adam(CNN_pool_pad_model.parameters(), lr=best_params['learning_rate'])\n",
        "    for i in range(best_params['epoch']):\n",
        "      train_CNN(CNN_pool_pad_model, train_melgs_dataloader, optimizer, CNN_pool_pad_criterion)\n",
        "\n",
        "    #get accuracy, f1 score on test dataset\n",
        "    test_loss, test_acc, test_f1 = evaluate_CNN(CNN_pool_pad_model, test_melgs_dataloader, CNN_pool_pad_criterion)\n",
        "    test_acc = \"{:.2f}\".format(test_acc*100) + '%'\n",
        "    test_f1 = \"{:.2f}\".format(test_f1*100) + '%'\n",
        "    results.append([activation_str, test_acc, test_f1, best_params['epoch'], best_params['learning_rate']])"
      ]
    },
    {
      "cell_type": "code",
      "execution_count": 36,
      "metadata": {
        "colab": {
          "base_uri": "https://localhost:8080/"
        },
        "id": "VibVRDatuK6g",
        "outputId": "5981d2a3-f8af-4729-a75a-02cc72d1c274"
      },
      "outputs": [
        {
          "name": "stdout",
          "output_type": "stream",
          "text": [
            "+---------------+-----------------+-----------------+---------------+----------------------+\n",
            "| Activation    | Test Accuracy   | Test F1 Score   |   Best Epochs |   Best Learning Rate |\n",
            "+===============+=================+=================+===============+======================+\n",
            "| Hardshrink    | 71.58%          | 38.52%          |            10 |               0.0001 |\n",
            "+---------------+-----------------+-----------------+---------------+----------------------+\n",
            "| Hardswish     | 70.28%          | 46.26%          |             5 |               0.0001 |\n",
            "+---------------+-----------------+-----------------+---------------+----------------------+\n",
            "| LeakyReLU     | 71.29%          | 38.07%          |            15 |               0.0001 |\n",
            "+---------------+-----------------+-----------------+---------------+----------------------+\n",
            "| PReLU         | 72.17%          | 39.72%          |            20 |               0.0001 |\n",
            "+---------------+-----------------+-----------------+---------------+----------------------+\n",
            "| ReLU          | 68.53%          | 41.14%          |            20 |               1e-05  |\n",
            "+---------------+-----------------+-----------------+---------------+----------------------+\n"
          ]
        }
      ],
      "source": [
        "headers = [\"Activation \", \"Test Accuracy\", \"Test F1 Score\", \"Best Epochs\", \"Best Learning Rate\"]\n",
        "print(tabulate(results, headers, tablefmt=\"grid\"))"
      ]
    },
    {
      "cell_type": "markdown",
      "metadata": {
        "id": "XLXyCLPj5mUY"
      },
      "source": [
        "Among the activation functions tested, PReLU performs the best in terms of accuracy, while Hardswish achieves the highest F1 score. Hardshrink and LeakyReLU show similar accuracy and F1 scores, while ReLU has lower accuracy but a relatively higher F1 score."
      ]
    },
    {
      "cell_type": "markdown",
      "metadata": {
        "id": "Fo8v-Agcxv8B"
      },
      "source": [
        "### Experiment with learning rate schedulers"
      ]
    },
    {
      "cell_type": "code",
      "execution_count": 42,
      "metadata": {
        "colab": {
          "base_uri": "https://localhost:8080/"
        },
        "id": "i5y7x1X0z4AH",
        "outputId": "725e1e97-039c-45a8-dd8c-5eab3a299bee"
      },
      "outputs": [
        {
          "name": "stderr",
          "output_type": "stream",
          "text": [
            "[I 2023-07-06 16:06:46,073] A new study created in memory with name: no-name-813ec838-8c36-48c0-a6ba-b72757895f56\n",
            "[I 2023-07-06 16:07:02,418] Trial 0 finished with value: 0.7632740461293095 and parameters: {'epoch': 10, 'learning_rate': 0.0001}. Best is trial 0 with value: 0.7632740461293095.\n",
            "[I 2023-07-06 16:07:13,171] Trial 1 finished with value: 0.6893202957173543 and parameters: {'epoch': 5, 'learning_rate': 1e-05}. Best is trial 0 with value: 0.7632740461293095.\n",
            "[I 2023-07-06 16:07:45,308] Trial 2 finished with value: 0.7362728660228659 and parameters: {'epoch': 20, 'learning_rate': 1e-05}. Best is trial 0 with value: 0.7632740461293095.\n",
            "[I 2023-07-06 16:08:01,570] Trial 3 finished with value: 0.09886322370290598 and parameters: {'epoch': 10, 'learning_rate': 0.01}. Best is trial 0 with value: 0.7632740461293095.\n",
            "[I 2023-07-06 16:08:10,045] Trial 4 finished with value: 0.7144517261061378 and parameters: {'epoch': 5, 'learning_rate': 0.0001}. Best is trial 0 with value: 0.7632740461293095.\n",
            "[I 2023-07-06 16:08:19,303] Trial 5 finished with value: 0.09644827095251106 and parameters: {'epoch': 5, 'learning_rate': 0.01}. Best is trial 0 with value: 0.7632740461293095.\n",
            "[I 2023-07-06 16:08:51,466] Trial 6 finished with value: 0.6786933344433345 and parameters: {'epoch': 20, 'learning_rate': 0.001}. Best is trial 0 with value: 0.7632740461293095.\n",
            "[I 2023-07-06 16:09:16,895] Trial 7 finished with value: 0.7668485264735264 and parameters: {'epoch': 15, 'learning_rate': 0.0001}. Best is trial 7 with value: 0.7668485264735264.\n",
            "[I 2023-07-06 16:09:36,330] A new study created in memory with name: no-name-942626ee-579b-4e4b-99cb-95ccffaf5b89\n"
          ]
        },
        {
          "name": "stdout",
          "output_type": "stream",
          "text": [
            "Adjusting learning rate of group 0 to 1.0000e-02.\n",
            "Adjusting learning rate of group 0 to 9.9384e-03.\n",
            "Adjusting learning rate of group 0 to 9.7553e-03.\n",
            "Adjusting learning rate of group 0 to 9.4550e-03.\n",
            "Adjusting learning rate of group 0 to 9.0451e-03.\n",
            "Adjusting learning rate of group 0 to 8.5355e-03.\n",
            "Adjusting learning rate of group 0 to 7.9389e-03.\n",
            "Adjusting learning rate of group 0 to 7.2700e-03.\n",
            "Adjusting learning rate of group 0 to 6.5451e-03.\n",
            "Adjusting learning rate of group 0 to 5.7822e-03.\n",
            "Adjusting learning rate of group 0 to 5.0000e-03.\n",
            "Adjusting learning rate of group 0 to 4.2178e-03.\n",
            "Adjusting learning rate of group 0 to 3.4549e-03.\n",
            "Adjusting learning rate of group 0 to 2.7300e-03.\n",
            "Adjusting learning rate of group 0 to 2.0611e-03.\n",
            "Adjusting learning rate of group 0 to 1.4645e-03.\n",
            "Adjusting learning rate of group 0 to 9.5492e-04.\n",
            "Adjusting learning rate of group 0 to 5.4497e-04.\n",
            "Adjusting learning rate of group 0 to 2.4472e-04.\n",
            "Adjusting learning rate of group 0 to 6.1558e-05.\n",
            "Adjusting learning rate of group 0 to 0.0000e+00.\n"
          ]
        },
        {
          "name": "stderr",
          "output_type": "stream",
          "text": [
            "[I 2023-07-06 16:10:23,249] Trial 0 finished with value: 0.09822017338937508 and parameters: {'epoch': 20, 'learning_rate': 0.01}. Best is trial 0 with value: 0.09822017338937508.\n"
          ]
        },
        {
          "name": "stdout",
          "output_type": "stream",
          "text": [
            "Adjusting learning rate of group 0 to 1.0000e-04.\n",
            "Adjusting learning rate of group 0 to 9.0451e-05.\n",
            "Adjusting learning rate of group 0 to 6.5451e-05.\n",
            "Adjusting learning rate of group 0 to 3.4549e-05.\n",
            "Adjusting learning rate of group 0 to 9.5492e-06.\n",
            "Adjusting learning rate of group 0 to 0.0000e+00.\n"
          ]
        },
        {
          "name": "stderr",
          "output_type": "stream",
          "text": [
            "[I 2023-07-06 16:10:33,751] Trial 1 finished with value: 0.7638990037740038 and parameters: {'epoch': 5, 'learning_rate': 0.0001}. Best is trial 1 with value: 0.7638990037740038.\n"
          ]
        },
        {
          "name": "stdout",
          "output_type": "stream",
          "text": [
            "Adjusting learning rate of group 0 to 1.0000e-04.\n",
            "Adjusting learning rate of group 0 to 9.8907e-05.\n",
            "Adjusting learning rate of group 0 to 9.5677e-05.\n",
            "Adjusting learning rate of group 0 to 9.0451e-05.\n",
            "Adjusting learning rate of group 0 to 8.3457e-05.\n",
            "Adjusting learning rate of group 0 to 7.5000e-05.\n",
            "Adjusting learning rate of group 0 to 6.5451e-05.\n",
            "Adjusting learning rate of group 0 to 5.5226e-05.\n",
            "Adjusting learning rate of group 0 to 4.4774e-05.\n",
            "Adjusting learning rate of group 0 to 3.4549e-05.\n",
            "Adjusting learning rate of group 0 to 2.5000e-05.\n",
            "Adjusting learning rate of group 0 to 1.6543e-05.\n",
            "Adjusting learning rate of group 0 to 9.5492e-06.\n",
            "Adjusting learning rate of group 0 to 4.3227e-06.\n",
            "Adjusting learning rate of group 0 to 1.0926e-06.\n",
            "Adjusting learning rate of group 0 to 0.0000e+00.\n"
          ]
        },
        {
          "name": "stderr",
          "output_type": "stream",
          "text": [
            "[I 2023-07-06 16:10:58,404] Trial 2 finished with value: 0.763780146052205 and parameters: {'epoch': 15, 'learning_rate': 0.0001}. Best is trial 1 with value: 0.7638990037740038.\n"
          ]
        },
        {
          "name": "stdout",
          "output_type": "stream",
          "text": [
            "Adjusting learning rate of group 0 to 1.0000e-04.\n",
            "Adjusting learning rate of group 0 to 9.9384e-05.\n",
            "Adjusting learning rate of group 0 to 9.7553e-05.\n",
            "Adjusting learning rate of group 0 to 9.4550e-05.\n",
            "Adjusting learning rate of group 0 to 9.0451e-05.\n",
            "Adjusting learning rate of group 0 to 8.5355e-05.\n",
            "Adjusting learning rate of group 0 to 7.9389e-05.\n",
            "Adjusting learning rate of group 0 to 7.2700e-05.\n",
            "Adjusting learning rate of group 0 to 6.5451e-05.\n",
            "Adjusting learning rate of group 0 to 5.7822e-05.\n",
            "Adjusting learning rate of group 0 to 5.0000e-05.\n",
            "Adjusting learning rate of group 0 to 4.2178e-05.\n",
            "Adjusting learning rate of group 0 to 3.4549e-05.\n",
            "Adjusting learning rate of group 0 to 2.7300e-05.\n",
            "Adjusting learning rate of group 0 to 2.0611e-05.\n",
            "Adjusting learning rate of group 0 to 1.4645e-05.\n",
            "Adjusting learning rate of group 0 to 9.5492e-06.\n",
            "Adjusting learning rate of group 0 to 5.4497e-06.\n",
            "Adjusting learning rate of group 0 to 2.4472e-06.\n",
            "Adjusting learning rate of group 0 to 6.1558e-07.\n",
            "Adjusting learning rate of group 0 to 0.0000e+00.\n"
          ]
        },
        {
          "name": "stderr",
          "output_type": "stream",
          "text": [
            "[I 2023-07-06 16:11:31,262] Trial 3 finished with value: 0.7409287109948873 and parameters: {'epoch': 20, 'learning_rate': 0.0001}. Best is trial 1 with value: 0.7638990037740038.\n"
          ]
        },
        {
          "name": "stdout",
          "output_type": "stream",
          "text": [
            "Adjusting learning rate of group 0 to 1.0000e-05.\n",
            "Adjusting learning rate of group 0 to 9.0451e-06.\n",
            "Adjusting learning rate of group 0 to 6.5451e-06.\n",
            "Adjusting learning rate of group 0 to 3.4549e-06.\n",
            "Adjusting learning rate of group 0 to 9.5492e-07.\n",
            "Adjusting learning rate of group 0 to 0.0000e+00.\n"
          ]
        },
        {
          "name": "stderr",
          "output_type": "stream",
          "text": [
            "[I 2023-07-06 16:11:40,509] Trial 4 finished with value: 0.679382437007437 and parameters: {'epoch': 5, 'learning_rate': 1e-05}. Best is trial 1 with value: 0.7638990037740038.\n"
          ]
        },
        {
          "name": "stdout",
          "output_type": "stream",
          "text": [
            "Adjusting learning rate of group 0 to 1.0000e-05.\n",
            "Adjusting learning rate of group 0 to 9.0451e-06.\n",
            "Adjusting learning rate of group 0 to 6.5451e-06.\n",
            "Adjusting learning rate of group 0 to 3.4549e-06.\n",
            "Adjusting learning rate of group 0 to 9.5492e-07.\n",
            "Adjusting learning rate of group 0 to 0.0000e+00.\n"
          ]
        },
        {
          "name": "stderr",
          "output_type": "stream",
          "text": [
            "[I 2023-07-06 16:11:49,145] Trial 5 finished with value: 0.5965803885656825 and parameters: {'epoch': 5, 'learning_rate': 1e-05}. Best is trial 1 with value: 0.7638990037740038.\n"
          ]
        },
        {
          "name": "stdout",
          "output_type": "stream",
          "text": [
            "Adjusting learning rate of group 0 to 1.0000e-05.\n",
            "Adjusting learning rate of group 0 to 9.7553e-06.\n",
            "Adjusting learning rate of group 0 to 9.0451e-06.\n",
            "Adjusting learning rate of group 0 to 7.9389e-06.\n",
            "Adjusting learning rate of group 0 to 6.5451e-06.\n",
            "Adjusting learning rate of group 0 to 5.0000e-06.\n",
            "Adjusting learning rate of group 0 to 3.4549e-06.\n",
            "Adjusting learning rate of group 0 to 2.0611e-06.\n",
            "Adjusting learning rate of group 0 to 9.5492e-07.\n",
            "Adjusting learning rate of group 0 to 2.4472e-07.\n",
            "Adjusting learning rate of group 0 to 0.0000e+00.\n"
          ]
        },
        {
          "name": "stderr",
          "output_type": "stream",
          "text": [
            "[I 2023-07-06 16:12:05,355] Trial 6 finished with value: 0.6697775280275278 and parameters: {'epoch': 10, 'learning_rate': 1e-05}. Best is trial 1 with value: 0.7638990037740038.\n"
          ]
        },
        {
          "name": "stdout",
          "output_type": "stream",
          "text": [
            "Adjusting learning rate of group 0 to 1.0000e-03.\n",
            "Adjusting learning rate of group 0 to 9.0451e-04.\n",
            "Adjusting learning rate of group 0 to 6.5451e-04.\n",
            "Adjusting learning rate of group 0 to 3.4549e-04.\n",
            "Adjusting learning rate of group 0 to 9.5492e-05.\n",
            "Adjusting learning rate of group 0 to 0.0000e+00.\n"
          ]
        },
        {
          "name": "stderr",
          "output_type": "stream",
          "text": [
            "[I 2023-07-06 16:12:17,763] Trial 7 finished with value: 0.7216418213279668 and parameters: {'epoch': 5, 'learning_rate': 0.001}. Best is trial 1 with value: 0.7638990037740038.\n"
          ]
        },
        {
          "name": "stdout",
          "output_type": "stream",
          "text": [
            "Adjusting learning rate of group 0 to 1.0000e-04.\n",
            "Adjusting learning rate of group 0 to 9.0451e-05.\n",
            "Adjusting learning rate of group 0 to 6.5451e-05.\n",
            "Adjusting learning rate of group 0 to 3.4549e-05.\n",
            "Adjusting learning rate of group 0 to 9.5492e-06.\n",
            "Adjusting learning rate of group 0 to 0.0000e+00.\n"
          ]
        },
        {
          "name": "stderr",
          "output_type": "stream",
          "text": [
            "[I 2023-07-06 16:12:24,576] A new study created in memory with name: no-name-0f622502-10db-4d1e-9bcf-9da7ea051bd8\n"
          ]
        },
        {
          "name": "stdout",
          "output_type": "stream",
          "text": [
            "Adjusting learning rate of group 0 to 4.0000e-06.\n",
            "Adjusting learning rate of group 0 to 4.0026e-06.\n",
            "Adjusting learning rate of group 0 to 4.0106e-06.\n",
            "Adjusting learning rate of group 0 to 4.0238e-06.\n",
            "Adjusting learning rate of group 0 to 4.0424e-06.\n",
            "Adjusting learning rate of group 0 to 4.0662e-06.\n"
          ]
        },
        {
          "name": "stderr",
          "output_type": "stream",
          "text": [
            "[I 2023-07-06 16:12:33,199] Trial 0 finished with value: 0.6109549434483647 and parameters: {'epoch': 5, 'learning_rate': 0.01, 'max_lr': 0.0001}. Best is trial 0 with value: 0.6109549434483647.\n"
          ]
        },
        {
          "name": "stdout",
          "output_type": "stream",
          "text": [
            "Adjusting learning rate of group 0 to 4.0000e-05.\n",
            "Adjusting learning rate of group 0 to 4.0002e-05.\n",
            "Adjusting learning rate of group 0 to 4.0007e-05.\n",
            "Adjusting learning rate of group 0 to 4.0015e-05.\n",
            "Adjusting learning rate of group 0 to 4.0026e-05.\n",
            "Adjusting learning rate of group 0 to 4.0041e-05.\n",
            "Adjusting learning rate of group 0 to 4.0059e-05.\n",
            "Adjusting learning rate of group 0 to 4.0081e-05.\n",
            "Adjusting learning rate of group 0 to 4.0105e-05.\n",
            "Adjusting learning rate of group 0 to 4.0133e-05.\n",
            "Adjusting learning rate of group 0 to 4.0165e-05.\n",
            "Adjusting learning rate of group 0 to 4.0199e-05.\n",
            "Adjusting learning rate of group 0 to 4.0237e-05.\n",
            "Adjusting learning rate of group 0 to 4.0278e-05.\n",
            "Adjusting learning rate of group 0 to 4.0323e-05.\n",
            "Adjusting learning rate of group 0 to 4.0371e-05.\n",
            "Adjusting learning rate of group 0 to 4.0422e-05.\n",
            "Adjusting learning rate of group 0 to 4.0476e-05.\n",
            "Adjusting learning rate of group 0 to 4.0534e-05.\n",
            "Adjusting learning rate of group 0 to 4.0595e-05.\n",
            "Adjusting learning rate of group 0 to 4.0659e-05.\n"
          ]
        },
        {
          "name": "stderr",
          "output_type": "stream",
          "text": [
            "[I 2023-07-06 16:13:11,149] Trial 1 finished with value: 0.7744827737621854 and parameters: {'epoch': 20, 'learning_rate': 0.001, 'max_lr': 0.001}. Best is trial 1 with value: 0.7744827737621854.\n"
          ]
        },
        {
          "name": "stdout",
          "output_type": "stream",
          "text": [
            "Adjusting learning rate of group 0 to 4.0000e-05.\n",
            "Adjusting learning rate of group 0 to 4.0007e-05.\n",
            "Adjusting learning rate of group 0 to 4.0026e-05.\n",
            "Adjusting learning rate of group 0 to 4.0059e-05.\n",
            "Adjusting learning rate of group 0 to 4.0106e-05.\n",
            "Adjusting learning rate of group 0 to 4.0165e-05.\n",
            "Adjusting learning rate of group 0 to 4.0238e-05.\n",
            "Adjusting learning rate of group 0 to 4.0323e-05.\n",
            "Adjusting learning rate of group 0 to 4.0422e-05.\n",
            "Adjusting learning rate of group 0 to 4.0535e-05.\n",
            "Adjusting learning rate of group 0 to 4.0660e-05.\n"
          ]
        },
        {
          "name": "stderr",
          "output_type": "stream",
          "text": [
            "[I 2023-07-06 16:13:28,054] Trial 2 finished with value: 0.7533656204906207 and parameters: {'epoch': 10, 'learning_rate': 0.0001, 'max_lr': 0.001}. Best is trial 1 with value: 0.7744827737621854.\n"
          ]
        },
        {
          "name": "stdout",
          "output_type": "stream",
          "text": [
            "Adjusting learning rate of group 0 to 4.0000e-03.\n",
            "Adjusting learning rate of group 0 to 4.0003e-03.\n",
            "Adjusting learning rate of group 0 to 4.0012e-03.\n",
            "Adjusting learning rate of group 0 to 4.0026e-03.\n",
            "Adjusting learning rate of group 0 to 4.0047e-03.\n",
            "Adjusting learning rate of group 0 to 4.0073e-03.\n",
            "Adjusting learning rate of group 0 to 4.0106e-03.\n",
            "Adjusting learning rate of group 0 to 4.0144e-03.\n",
            "Adjusting learning rate of group 0 to 4.0188e-03.\n",
            "Adjusting learning rate of group 0 to 4.0237e-03.\n",
            "Adjusting learning rate of group 0 to 4.0293e-03.\n",
            "Adjusting learning rate of group 0 to 4.0355e-03.\n",
            "Adjusting learning rate of group 0 to 4.0422e-03.\n",
            "Adjusting learning rate of group 0 to 4.0495e-03.\n",
            "Adjusting learning rate of group 0 to 4.0574e-03.\n",
            "Adjusting learning rate of group 0 to 4.0659e-03.\n"
          ]
        },
        {
          "name": "stderr",
          "output_type": "stream",
          "text": [
            "[I 2023-07-06 16:13:54,290] Trial 3 finished with value: 0.10148588630376214 and parameters: {'epoch': 15, 'learning_rate': 1e-05, 'max_lr': 0.1}. Best is trial 1 with value: 0.7744827737621854.\n"
          ]
        },
        {
          "name": "stdout",
          "output_type": "stream",
          "text": [
            "Adjusting learning rate of group 0 to 4.0000e-04.\n",
            "Adjusting learning rate of group 0 to 4.0007e-04.\n",
            "Adjusting learning rate of group 0 to 4.0026e-04.\n",
            "Adjusting learning rate of group 0 to 4.0059e-04.\n",
            "Adjusting learning rate of group 0 to 4.0106e-04.\n",
            "Adjusting learning rate of group 0 to 4.0165e-04.\n",
            "Adjusting learning rate of group 0 to 4.0238e-04.\n",
            "Adjusting learning rate of group 0 to 4.0323e-04.\n",
            "Adjusting learning rate of group 0 to 4.0422e-04.\n",
            "Adjusting learning rate of group 0 to 4.0535e-04.\n",
            "Adjusting learning rate of group 0 to 4.0660e-04.\n"
          ]
        },
        {
          "name": "stderr",
          "output_type": "stream",
          "text": [
            "[I 2023-07-06 16:14:16,897] Trial 4 finished with value: 0.7411770500741091 and parameters: {'epoch': 10, 'learning_rate': 0.001, 'max_lr': 0.01}. Best is trial 1 with value: 0.7744827737621854.\n"
          ]
        },
        {
          "name": "stdout",
          "output_type": "stream",
          "text": [
            "Adjusting learning rate of group 0 to 4.0000e-06.\n",
            "Adjusting learning rate of group 0 to 4.0026e-06.\n",
            "Adjusting learning rate of group 0 to 4.0106e-06.\n",
            "Adjusting learning rate of group 0 to 4.0238e-06.\n",
            "Adjusting learning rate of group 0 to 4.0424e-06.\n",
            "Adjusting learning rate of group 0 to 4.0662e-06.\n"
          ]
        },
        {
          "name": "stderr",
          "output_type": "stream",
          "text": [
            "[I 2023-07-06 16:14:25,522] Trial 5 finished with value: 0.5481214063714064 and parameters: {'epoch': 5, 'learning_rate': 0.001, 'max_lr': 0.0001}. Best is trial 1 with value: 0.7744827737621854.\n"
          ]
        },
        {
          "name": "stdout",
          "output_type": "stream",
          "text": [
            "Adjusting learning rate of group 0 to 4.0000e-04.\n",
            "Adjusting learning rate of group 0 to 4.0002e-04.\n",
            "Adjusting learning rate of group 0 to 4.0007e-04.\n",
            "Adjusting learning rate of group 0 to 4.0015e-04.\n",
            "Adjusting learning rate of group 0 to 4.0026e-04.\n",
            "Adjusting learning rate of group 0 to 4.0041e-04.\n",
            "Adjusting learning rate of group 0 to 4.0059e-04.\n",
            "Adjusting learning rate of group 0 to 4.0081e-04.\n",
            "Adjusting learning rate of group 0 to 4.0105e-04.\n",
            "Adjusting learning rate of group 0 to 4.0133e-04.\n",
            "Adjusting learning rate of group 0 to 4.0165e-04.\n",
            "Adjusting learning rate of group 0 to 4.0199e-04.\n",
            "Adjusting learning rate of group 0 to 4.0237e-04.\n",
            "Adjusting learning rate of group 0 to 4.0278e-04.\n",
            "Adjusting learning rate of group 0 to 4.0323e-04.\n",
            "Adjusting learning rate of group 0 to 4.0371e-04.\n",
            "Adjusting learning rate of group 0 to 4.0422e-04.\n",
            "Adjusting learning rate of group 0 to 4.0476e-04.\n",
            "Adjusting learning rate of group 0 to 4.0534e-04.\n",
            "Adjusting learning rate of group 0 to 4.0595e-04.\n",
            "Adjusting learning rate of group 0 to 4.0659e-04.\n"
          ]
        },
        {
          "name": "stderr",
          "output_type": "stream",
          "text": [
            "[I 2023-07-06 16:14:58,610] Trial 6 finished with value: 0.7181033419195181 and parameters: {'epoch': 20, 'learning_rate': 0.01, 'max_lr': 0.01}. Best is trial 1 with value: 0.7744827737621854.\n"
          ]
        },
        {
          "name": "stdout",
          "output_type": "stream",
          "text": [
            "Adjusting learning rate of group 0 to 4.0000e-05.\n",
            "Adjusting learning rate of group 0 to 4.0026e-05.\n",
            "Adjusting learning rate of group 0 to 4.0106e-05.\n",
            "Adjusting learning rate of group 0 to 4.0238e-05.\n",
            "Adjusting learning rate of group 0 to 4.0424e-05.\n",
            "Adjusting learning rate of group 0 to 4.0662e-05.\n"
          ]
        },
        {
          "name": "stderr",
          "output_type": "stream",
          "text": [
            "[I 2023-07-06 16:15:07,949] Trial 7 finished with value: 0.7336700301332654 and parameters: {'epoch': 5, 'learning_rate': 0.001, 'max_lr': 0.001}. Best is trial 1 with value: 0.7744827737621854.\n"
          ]
        },
        {
          "name": "stdout",
          "output_type": "stream",
          "text": [
            "Adjusting learning rate of group 0 to 4.0000e-05.\n",
            "Adjusting learning rate of group 0 to 4.0002e-05.\n",
            "Adjusting learning rate of group 0 to 4.0007e-05.\n",
            "Adjusting learning rate of group 0 to 4.0015e-05.\n",
            "Adjusting learning rate of group 0 to 4.0026e-05.\n",
            "Adjusting learning rate of group 0 to 4.0041e-05.\n",
            "Adjusting learning rate of group 0 to 4.0059e-05.\n",
            "Adjusting learning rate of group 0 to 4.0081e-05.\n",
            "Adjusting learning rate of group 0 to 4.0105e-05.\n",
            "Adjusting learning rate of group 0 to 4.0133e-05.\n",
            "Adjusting learning rate of group 0 to 4.0165e-05.\n",
            "Adjusting learning rate of group 0 to 4.0199e-05.\n",
            "Adjusting learning rate of group 0 to 4.0237e-05.\n",
            "Adjusting learning rate of group 0 to 4.0278e-05.\n",
            "Adjusting learning rate of group 0 to 4.0323e-05.\n",
            "Adjusting learning rate of group 0 to 4.0371e-05.\n",
            "Adjusting learning rate of group 0 to 4.0422e-05.\n",
            "Adjusting learning rate of group 0 to 4.0476e-05.\n",
            "Adjusting learning rate of group 0 to 4.0534e-05.\n",
            "Adjusting learning rate of group 0 to 4.0595e-05.\n",
            "Adjusting learning rate of group 0 to 4.0659e-05.\n"
          ]
        }
      ],
      "source": [
        "schedulers = [\n",
        "  'None',\n",
        "  'lr_scheduler.CosineAnnealingLR',\n",
        "  'lr_scheduler.OneCycleLR',\n",
        "]\n",
        "\n",
        "epoch_choices = [5, 10, 15, 20]\n",
        "learning_rate_choices = [0.00001, 0.0001, 0.001, 0.01]\n",
        "max_lr_values = [0.01, 0.1, 0.001, 0.0001]\n",
        "\n",
        "results = []\n",
        "\n",
        "for scheduler_str in schedulers:\n",
        "    def objective(trial):\n",
        "        epoch = trial.suggest_categorical('epoch', epoch_choices)\n",
        "        learning_rate = trial.suggest_categorical('learning_rate', learning_rate_choices)\n",
        "        if scheduler_str == 'lr_scheduler.OneCycleLR':\n",
        "            max_lr = trial.suggest_categorical('max_lr', max_lr_values)\n",
        "\n",
        "        set_seeds(seed)\n",
        "        CNN_pool_pad_model = CNN_pool_pad(CNN_pool_pad_out_dim, nn.Hardswish)\n",
        "        CNN_pool_pad_model.to(device)\n",
        "\n",
        "\n",
        "        optimizer = optim.Adam(CNN_pool_pad_model.parameters(), lr=learning_rate)\n",
        "        scheduler = None\n",
        "        if scheduler_str == 'lr_scheduler.CosineAnnealingLR':\n",
        "          scheduler = eval(scheduler_str)\n",
        "          scheduler = scheduler(optimizer, verbose=True, T_max = epoch)\n",
        "        elif scheduler_str == 'lr_scheduler.OneCycleLR':\n",
        "          scheduler = eval(scheduler_str)\n",
        "          scheduler = scheduler(optimizer, verbose=True, max_lr = max_lr,total_steps =epoch*len(train_melgs_dataloader))\n",
        "\n",
        "        if scheduler_str == 'None':\n",
        "            train_loss_list, train_acc_list, valid_loss_list, valid_acc_list, valid_f1_list = train_eval_CNN(\n",
        "              CNN_pool_pad_model, epoch, optimizer, CNN_pool_pad_criterion, train_melgs_dataloader, val_melgs_dataloader,[],False, None)\n",
        "        else:\n",
        "            train_loss_list, train_acc_list, valid_loss_list, valid_acc_list, valid_f1_list = train_eval_CNN(\n",
        "              CNN_pool_pad_model, epoch, optimizer, CNN_pool_pad_criterion, train_melgs_dataloader, val_melgs_dataloader, [], False, scheduler)\n",
        "\n",
        "\n",
        "        return valid_f1_list[-1]\n",
        "\n",
        "    study = optuna.create_study(direction='maximize')\n",
        "    study.optimize(objective, n_trials=8)\n",
        "\n",
        "    # Access the best hyperparameters and evaluation score\n",
        "    best_params = study.best_params\n",
        "\n",
        "    #train the model with best hyperparamters and the current optimizer\n",
        "    set_seeds(seed)\n",
        "    CNN_pool_pad_model = CNN_pool_pad(CNN_pool_pad_out_dim,nn.Hardswish)\n",
        "    CNN_pool_pad_model.to(device)\n",
        "    optimizer = optim.Adam(CNN_pool_pad_model.parameters(), lr=best_params['learning_rate'])\n",
        "    if scheduler_str == 'lr_scheduler.CosineAnnealingLR':\n",
        "          scheduler = eval(scheduler_str)\n",
        "          scheduler = scheduler(optimizer, verbose=True, T_max = best_params['epoch'])\n",
        "    elif scheduler_str == 'lr_scheduler.OneCycleLR':\n",
        "          scheduler = eval(scheduler_str)\n",
        "          scheduler = scheduler(optimizer, verbose=True, max_lr = best_params['max_lr'], total_steps=best_params['epoch']*len(train_melgs_dataloader) )\n",
        "\n",
        "    if scheduler_str == 'None':\n",
        "        for i in range(best_params['epoch']):\n",
        "          train_CNN(CNN_pool_pad_model, train_melgs_dataloader, optimizer, CNN_pool_pad_criterion)\n",
        "    else:\n",
        "        for i in range(best_params['epoch']):\n",
        "          train_CNN(CNN_pool_pad_model, train_melgs_dataloader, optimizer, CNN_pool_pad_criterion, scheduler)\n",
        "\n",
        "    #get accuracy, f1 score on test dataset\n",
        "    test_loss, test_acc, test_f1 = evaluate_CNN(CNN_pool_pad_model, test_melgs_dataloader, CNN_pool_pad_criterion)\n",
        "    test_acc = \"{:.2f}\".format(test_acc*100) + '%'\n",
        "    test_f1 = \"{:.2f}\".format(test_f1*100) + '%'\n",
        "    results.append([scheduler_str, test_acc, test_f1, best_params['epoch'], best_params['learning_rate']])"
      ]
    },
    {
      "cell_type": "code",
      "execution_count": 43,
      "metadata": {
        "colab": {
          "base_uri": "https://localhost:8080/"
        },
        "id": "T2W-mCtE67-X",
        "outputId": "a30bf367-954a-4bda-fd2e-60ec9d48914c"
      },
      "outputs": [
        {
          "name": "stdout",
          "output_type": "stream",
          "text": [
            "+--------------------------------+-----------------+-----------------+---------------+----------------------+\n",
            "| Scheduler                      | Test Accuracy   | Test F1 Score   |   Best Epochs |   Best Learning Rate |\n",
            "+================================+=================+=================+===============+======================+\n",
            "| None                           | 70.93%          | 41.66%          |            15 |               0.0001 |\n",
            "+--------------------------------+-----------------+-----------------+---------------+----------------------+\n",
            "| lr_scheduler.CosineAnnealingLR | 71.88%          | 41.38%          |             5 |               0.0001 |\n",
            "+--------------------------------+-----------------+-----------------+---------------+----------------------+\n",
            "| lr_scheduler.OneCycleLR        | 75.87%          | 48.05%          |            20 |               0.001  |\n",
            "+--------------------------------+-----------------+-----------------+---------------+----------------------+\n"
          ]
        }
      ],
      "source": [
        "headers = [\"Scheduler \", \"Test Accuracy\", \"Test F1 Score\", \"Best Epochs\", \"Best Learning Rate\"]\n",
        "print(tabulate(results, headers, tablefmt=\"grid\"))"
      ]
    },
    {
      "cell_type": "markdown",
      "metadata": {
        "id": "YgeKJ4CaKYsj"
      },
      "source": [
        "Incorporating a learning rate scheduler, such as the OneCycleLR scheduler, can improve the model's accuracy and F1 score compared to using no scheduler or a simpler scheduler like CosineAnnealingLR"
      ]
    },
    {
      "cell_type": "markdown",
      "metadata": {
        "id": "toyvO3VDJSdG"
      },
      "source": [
        "### Batch Normalization"
      ]
    },
    {
      "cell_type": "code",
      "execution_count": 45,
      "metadata": {
        "id": "fsx02BDXJrIK"
      },
      "outputs": [],
      "source": [
        "class CNN_pool_pad_batch(nn.Module):\n",
        "    def __init__(self, out_dim, activation):\n",
        "        super(CNN_pool_pad_batch, self).__init__()\n",
        "        self.conv_layers = nn.Sequential(\n",
        "            nn.Conv2d(1, 16, kernel_size=5, padding=2),\n",
        "            nn.BatchNorm2d(16),\n",
        "            activation(),\n",
        "            nn.MaxPool2d(kernel_size=2),\n",
        "            nn.Conv2d(16, 32, kernel_size=5, padding=2),\n",
        "            nn.BatchNorm2d(32),\n",
        "            activation(),\n",
        "            nn.MaxPool2d(kernel_size=2),\n",
        "            nn.Conv2d(32, 64, kernel_size=5, padding=2),\n",
        "            nn.BatchNorm2d(64),\n",
        "            activation(),\n",
        "            nn.MaxPool2d(kernel_size=2),\n",
        "            nn.Conv2d(64, 128, kernel_size=5, padding=2),\n",
        "            nn.BatchNorm2d(128),\n",
        "            activation(),\n",
        "            nn.MaxPool2d(kernel_size=2)\n",
        "        )\n",
        "\n",
        "        conv_output_size = self._get_conv_output_size((1, 21, 128))\n",
        "\n",
        "        self.fc_layers = nn.Sequential(\n",
        "            nn.Linear(conv_output_size, 1024),\n",
        "            nn.BatchNorm1d(1024),\n",
        "            activation(),\n",
        "            nn.Linear(1024, 256),\n",
        "            nn.BatchNorm1d(256),\n",
        "            activation(),\n",
        "            nn.Linear(256, 32),\n",
        "            nn.BatchNorm1d(32),\n",
        "            activation(),\n",
        "            nn.Linear(32, out_dim)\n",
        "        )\n",
        "\n",
        "    def forward(self, x):\n",
        "        x = self.conv_layers(x)\n",
        "        x = x.view(x.size(0), -1)\n",
        "        x = self.fc_layers(x)\n",
        "        return x\n",
        "\n",
        "    def _get_conv_output_size(self, input_shape):\n",
        "        input_tensor = torch.zeros(1, *input_shape)\n",
        "        output_tensor = self.conv_layers(input_tensor)\n",
        "        conv_output_size = output_tensor.view(1, -1).size(1)\n",
        "        return conv_output_size\n"
      ]
    },
    {
      "cell_type": "code",
      "execution_count": 51,
      "metadata": {
        "id": "6WQaxBPIJ3Oh"
      },
      "outputs": [],
      "source": [
        "CNN_out_dim = 4\n",
        "set_seeds(seed)\n",
        "CNN_pool_pad_batch_model = CNN_pool_pad_batch(CNN_out_dim,nn.ReLU)\n",
        "CNN_pool_pad_batch_model.to(device)\n",
        "CNN_criterion = nn.CrossEntropyLoss()\n",
        "lr=0.00001\n",
        "CNN_optimizer = optim.Adam(CNN_pool_pad_batch_model.parameters(), lr=lr)\n",
        "epochs = 6"
      ]
    },
    {
      "cell_type": "code",
      "execution_count": 52,
      "metadata": {
        "colab": {
          "base_uri": "https://localhost:8080/"
        },
        "id": "rdZyOFNvJ3Oi",
        "outputId": "55ab59bc-3131-4f0d-ab4f-227f40329f6e"
      },
      "outputs": [
        {
          "name": "stdout",
          "output_type": "stream",
          "text": [
            "Epoch: 01\n",
            "\tTrain Loss: 1.158 | Train Acc: 52.38%\n",
            "\t Val. Loss: 0.998 |  Val. Acc: 64.25% | Val. F1: 61.49%\n",
            "Epoch: 02\n",
            "\tTrain Loss: 0.970 | Train Acc: 66.88%\n",
            "\t Val. Loss: 0.920 |  Val. Acc: 73.25% | Val. F1: 70.88%\n",
            "Epoch: 03\n",
            "\tTrain Loss: 0.898 | Train Acc: 70.25%\n",
            "\t Val. Loss: 0.866 |  Val. Acc: 75.38% | Val. F1: 70.29%\n",
            "Epoch: 04\n",
            "\tTrain Loss: 0.848 | Train Acc: 73.81%\n",
            "\t Val. Loss: 0.845 |  Val. Acc: 75.50% | Val. F1: 72.06%\n",
            "Epoch: 05\n",
            "\tTrain Loss: 0.811 | Train Acc: 75.59%\n",
            "\t Val. Loss: 0.826 |  Val. Acc: 76.25% | Val. F1: 72.81%\n",
            "Epoch: 06\n",
            "\tTrain Loss: 0.778 | Train Acc: 77.62%\n",
            "\t Val. Loss: 0.801 |  Val. Acc: 76.62% | Val. F1: 71.79%\n"
          ]
        }
      ],
      "source": [
        "train_loss_list_CNN_pool_pad, train_acc_list_CNN_pool_pad, valid_loss_list_CNN_pool_pad, valid_acc_list_CNN_pool_pad, valid_f1_list_CNN_pool_pad = train_eval_CNN(\n",
        "      CNN_pool_pad_batch_model, epochs, CNN_optimizer, CNN_criterion, train_melgs_dataloader, val_melgs_dataloader\n",
        "  )"
      ]
    },
    {
      "cell_type": "code",
      "execution_count": 54,
      "metadata": {
        "colab": {
          "base_uri": "https://localhost:8080/"
        },
        "id": "-fzOJ9i9J-Nb",
        "outputId": "fb86c94f-3ccb-44e0-a4f2-873d0c98ee15"
      },
      "outputs": [
        {
          "name": "stdout",
          "output_type": "stream",
          "text": [
            "Test Loss: 0.888 |  Test Acc: 69.99% | Test F1: 40.26%\n",
            "\n"
          ]
        }
      ],
      "source": [
        "test_loss, test_acc, test_f1 = evaluate_CNN(CNN_pool_pad_batch_model, test_melgs_dataloader, CNN_pool_pad_criterion)\n",
        "print(f'Test Loss: {test_loss:.3f} |  Test Acc: {test_acc*100:.2f}% | Test F1: {test_f1*100:.2f}%\\n')"
      ]
    },
    {
      "cell_type": "markdown",
      "metadata": {
        "id": "763_F5d-KvGM"
      },
      "source": [
        "The utilization of Batch Normalization has led to better scores, indicating an improvement in the model's accuracy and F1 score and facilitate faster convergence, allowing the model to achieve better scores within fewer training epochs"
      ]
    },
    {
      "cell_type": "markdown",
      "metadata": {
        "id": "k-kmJAdfK5Gk"
      },
      "source": [
        "### Regularization"
      ]
    },
    {
      "cell_type": "markdown",
      "metadata": {
        "id": "q7rAUSHbDhTC"
      },
      "source": [
        "Experimening with weight decay"
      ]
    },
    {
      "cell_type": "code",
      "execution_count": 61,
      "metadata": {
        "colab": {
          "base_uri": "https://localhost:8080/"
        },
        "id": "omr9onL0DfB0",
        "outputId": "864df68e-b079-4340-97ee-00270a5a0c81"
      },
      "outputs": [
        {
          "name": "stderr",
          "output_type": "stream",
          "text": [
            "[I 2023-07-06 16:46:28,567] A new study created in memory with name: no-name-463edb72-3f72-45da-a1d9-882b36c6e5bf\n",
            "[I 2023-07-06 16:47:08,781] Trial 0 finished with value: 0.5350881144998794 and parameters: {'learning_rate': 0.001, 'weight_decay': 0.01}. Best is trial 0 with value: 0.5350881144998794.\n",
            "[I 2023-07-06 16:47:46,962] Trial 1 finished with value: 0.5714692211812955 and parameters: {'learning_rate': 0.001, 'weight_decay': 1e-05}. Best is trial 1 with value: 0.5714692211812955.\n",
            "[I 2023-07-06 16:48:21,666] Trial 2 finished with value: 0.5714692211812955 and parameters: {'learning_rate': 0.001, 'weight_decay': 1e-05}. Best is trial 1 with value: 0.5714692211812955.\n",
            "[I 2023-07-06 16:48:56,249] Trial 3 finished with value: 0.3713642871862685 and parameters: {'learning_rate': 0.001, 'weight_decay': 0.1}. Best is trial 1 with value: 0.5714692211812955.\n",
            "[I 2023-07-06 16:49:30,993] Trial 4 finished with value: 0.5350881144998794 and parameters: {'learning_rate': 0.0001, 'weight_decay': 0.01}. Best is trial 1 with value: 0.5714692211812955.\n",
            "[I 2023-07-06 16:50:04,678] Trial 5 finished with value: 0.3713642871862685 and parameters: {'learning_rate': 1e-05, 'weight_decay': 0.1}. Best is trial 1 with value: 0.5714692211812955.\n"
          ]
        },
        {
          "name": "stdout",
          "output_type": "stream",
          "text": [
            "Test F1: 35.21%, test_acc: 65.70%, best learning rate: 0.001, best weight decay: 1e-05\n"
          ]
        }
      ],
      "source": [
        "learning_rate_choices = [0.00001, 0.0001, 0.001, 0.01]\n",
        "weight_decay_choices = [0.0001, 0.001, 0.01, 0.1, 0.00001]\n",
        "\n",
        "epoch = 60\n",
        "activation=nn.ReLU\n",
        "results = []\n",
        "\n",
        "def objective(trial):\n",
        "    learning_rate = trial.suggest_categorical('learning_rate', learning_rate_choices)\n",
        "    weight_decay = trial.suggest_categorical('weight_decay', weight_decay_choices)\n",
        "\n",
        "    set_seeds(seed)\n",
        "    CNN_pool_pad_model = CNN_pool_pad(CNN_pool_pad_out_dim,activation)\n",
        "    CNN_pool_pad_model.to(device)\n",
        "    optimizer = optim.Adam(CNN_pool_pad_model.parameters(), lr=CNN_pool_pad_lr, weight_decay=weight_decay)\n",
        "    train_loss_list, train_acc_list, valid_loss_list, valid_acc_list, valid_f1_list = train_eval_CNN(\n",
        "        CNN_pool_pad_model, epoch, optimizer, CNN_pool_pad_criterion, train_melgs_dataloader, val_melgs_dataloader, [], False, None)\n",
        "\n",
        "\n",
        "    return valid_f1_list[-1]\n",
        "\n",
        "study = optuna.create_study(direction='maximize')\n",
        "study.optimize(objective, n_trials=7)\n",
        "\n",
        "# Access the best hyperparameters and evaluation score\n",
        "best_params = study.best_params\n",
        "\n",
        "#train the model with best hyperparamters and the current optimizer\n",
        "set_seeds(seed)\n",
        "CNN_pool_pad_model = CNN_pool_pad(CNN_pool_pad_out_dim,activation)\n",
        "CNN_pool_pad_model.to(device)\n",
        "optimizer = optim.Adam(CNN_pool_pad_model.parameters(), lr=best_params['learning_rate'], weight_decay=best_params['weight_decay'])\n",
        "for i in range(epoch):\n",
        "  train_CNN(CNN_pool_pad_model, train_melgs_dataloader, optimizer, CNN_pool_pad_criterion)\n",
        "\n",
        "#get accuracy, f1 score on test dataset\n",
        "test_loss, test_acc, test_f1 = evaluate_CNN(CNN_pool_pad_model, test_melgs_dataloader, CNN_pool_pad_criterion)\n",
        "test_acc = \"{:.2f}\".format(test_acc*100) + '%'\n",
        "test_f1 = \"{:.2f}\".format(test_f1*100) + '%'\n",
        "print(f\"Test F1: {test_f1}, test_acc: {test_acc}, best learning rate: {best_params['learning_rate']}, best weight decay: {best_params['weight_decay']}\")"
      ]
    },
    {
      "cell_type": "markdown",
      "metadata": {
        "id": "l4BgqJduLyQh"
      },
      "source": [
        "weight decay serves as an effective regularization technique to combat overfitting, control model complexity, and improve generalization performance"
      ]
    },
    {
      "cell_type": "markdown",
      "metadata": {
        "id": "i4AUSfiuDrM8"
      },
      "source": [
        "Experimenting with dropout rate"
      ]
    },
    {
      "cell_type": "code",
      "execution_count": 62,
      "metadata": {
        "colab": {
          "base_uri": "https://localhost:8080/"
        },
        "id": "a3Fwx5FMDuP7",
        "outputId": "4bb03c6a-ec0e-47b1-d37d-d7512a30906b"
      },
      "outputs": [
        {
          "name": "stderr",
          "output_type": "stream",
          "text": [
            "[I 2023-07-06 16:50:32,147] A new study created in memory with name: no-name-c5d5b4bc-ae99-4467-9b96-6e3185bca4d3\n",
            "[I 2023-07-06 16:51:07,351] Trial 0 finished with value: 0.09972382051773618 and parameters: {'learning_rate': 0.0001, 'dropout_rate': 0.9}. Best is trial 0 with value: 0.09972382051773618.\n",
            "[I 2023-07-06 16:51:45,744] Trial 1 finished with value: 0.5768111994214936 and parameters: {'learning_rate': 0.001, 'dropout_rate': 0.3}. Best is trial 1 with value: 0.5768111994214936.\n",
            "[I 2023-07-06 16:52:28,851] Trial 2 finished with value: 0.5768111994214936 and parameters: {'learning_rate': 1e-05, 'dropout_rate': 0.3}. Best is trial 1 with value: 0.5768111994214936.\n",
            "[I 2023-07-06 16:53:08,042] Trial 3 finished with value: 0.6545613242966184 and parameters: {'learning_rate': 0.0001, 'dropout_rate': 0.1}. Best is trial 3 with value: 0.6545613242966184.\n",
            "[I 2023-07-06 16:53:52,896] Trial 4 finished with value: 0.6545613242966184 and parameters: {'learning_rate': 0.001, 'dropout_rate': 0.1}. Best is trial 3 with value: 0.6545613242966184.\n",
            "[I 2023-07-06 16:54:45,318] Trial 5 finished with value: 0.09972382051773618 and parameters: {'learning_rate': 1e-05, 'dropout_rate': 0.9}. Best is trial 3 with value: 0.6545613242966184.\n"
          ]
        },
        {
          "name": "stdout",
          "output_type": "stream",
          "text": [
            "Test F1: 37.08%, test_acc: 71.29%, best learning rate: 0.0001, best dropout rate: 0.1\n"
          ]
        }
      ],
      "source": [
        "learning_rate_choices = [0.00001, 0.0001, 0.001, 0.01]\n",
        "dropout_rate_choices = [0.1, 0.3, 0.5, 0.7, 0.9]\n",
        "\n",
        "epoch = 60\n",
        "activation=nn.ReLU\n",
        "results = []\n",
        "\n",
        "def objective(trial):\n",
        "    learning_rate = trial.suggest_categorical('learning_rate', learning_rate_choices)\n",
        "    dropout_rate = trial.suggest_categorical('dropout_rate', dropout_rate_choices)\n",
        "\n",
        "    set_seeds(seed)\n",
        "    CNN_pool_pad_model = CNN_pool_pad(CNN_pool_pad_out_dim,activation, dropout_rate)\n",
        "    CNN_pool_pad_model.to(device)\n",
        "    optimizer = optim.Adam(CNN_pool_pad_model.parameters(), lr=CNN_pool_pad_lr)\n",
        "    train_loss_list, train_acc_list, valid_loss_list, valid_acc_list, valid_f1_list = train_eval_CNN(\n",
        "        CNN_pool_pad_model, epoch, optimizer, CNN_pool_pad_criterion, train_melgs_dataloader, val_melgs_dataloader, [], False, None)\n",
        "\n",
        "\n",
        "    return valid_f1_list[-1]\n",
        "\n",
        "study = optuna.create_study(direction='maximize')\n",
        "study.optimize(objective, n_trials=7)\n",
        "\n",
        "# Access the best hyperparameters and evaluation score\n",
        "best_params = study.best_params\n",
        "\n",
        "#train the model with best hyperparamters and the current optimizer\n",
        "set_seeds(seed)\n",
        "CNN_pool_pad_model = CNN_pool_pad(CNN_pool_pad_out_dim,activation, best_params['dropout_rate'])\n",
        "CNN_pool_pad_model.to(device)\n",
        "optimizer = optim.Adam(CNN_pool_pad_model.parameters(), lr=best_params['learning_rate'])\n",
        "for i in range(epoch):\n",
        "  train_CNN(CNN_pool_pad_model, train_melgs_dataloader, optimizer, CNN_pool_pad_criterion)\n",
        "\n",
        "#get accuracy, f1 score on test dataset\n",
        "test_loss, test_acc, test_f1 = evaluate_CNN(CNN_pool_pad_model, test_melgs_dataloader, CNN_pool_pad_criterion)\n",
        "test_acc = \"{:.2f}\".format(test_acc*100) + '%'\n",
        "test_f1 = \"{:.2f}\".format(test_f1*100) + '%'\n",
        "print(f\"Test F1: {test_f1}, test_acc: {test_acc}, best learning rate: {best_params['learning_rate']}, best dropout rate: {best_params['dropout_rate']}\")"
      ]
    },
    {
      "cell_type": "markdown",
      "metadata": {
        "id": "rmCYmZ6eLzeV"
      },
      "source": [
        "Dropout is a powerful regularization technique that helps prevent overfitting and improve generalization performance by reducing co-adaptation and controlling model complexity"
      ]
    },
    {
      "cell_type": "markdown",
      "metadata": {
        "id": "6qpRs1KmDY9G"
      },
      "source": [
        "Experimenting with both weight decay and dropout rate"
      ]
    },
    {
      "cell_type": "code",
      "execution_count": 82,
      "metadata": {
        "colab": {
          "base_uri": "https://localhost:8080/"
        },
        "id": "_6637qvu_2pI",
        "outputId": "88586473-66b0-4437-e19b-996ea6e2bcc2"
      },
      "outputs": [
        {
          "name": "stderr",
          "output_type": "stream",
          "text": [
            "[I 2023-07-06 17:48:18,375] A new study created in memory with name: no-name-470eed5a-4fa5-4229-ba1d-15125e8a5240\n",
            "[I 2023-07-06 17:49:02,896] Trial 0 finished with value: 0.6368779700691466 and parameters: {'learning_rate': 1e-05, 'weight_decay': 0.0001, 'dropout_rate': 0.3}. Best is trial 0 with value: 0.6368779700691466.\n",
            "[I 2023-07-06 17:49:47,801] Trial 1 finished with value: 0.48535476288417484 and parameters: {'learning_rate': 0.01, 'weight_decay': 0.1, 'dropout_rate': 0.5}. Best is trial 0 with value: 0.6368779700691466.\n",
            "[I 2023-07-06 17:50:32,576] Trial 2 finished with value: 0.41137579577285455 and parameters: {'learning_rate': 0.001, 'weight_decay': 1e-05, 'dropout_rate': 0.7}. Best is trial 0 with value: 0.6368779700691466.\n",
            "[I 2023-07-06 17:51:17,745] Trial 3 finished with value: 0.6703783079665433 and parameters: {'learning_rate': 0.0001, 'weight_decay': 1e-05, 'dropout_rate': 0.1}. Best is trial 3 with value: 0.6703783079665433.\n",
            "[I 2023-07-06 17:52:02,035] Trial 4 finished with value: 0.4622712393815334 and parameters: {'learning_rate': 1e-05, 'weight_decay': 0.001, 'dropout_rate': 0.5}. Best is trial 3 with value: 0.6703783079665433.\n",
            "[I 2023-07-06 17:52:46,832] Trial 5 finished with value: 0.35968218455950646 and parameters: {'learning_rate': 1e-05, 'weight_decay': 0.01, 'dropout_rate': 0.7}. Best is trial 3 with value: 0.6703783079665433.\n",
            "[I 2023-07-06 17:53:31,128] Trial 6 finished with value: 0.6524876806200338 and parameters: {'learning_rate': 0.0001, 'weight_decay': 0.01, 'dropout_rate': 0.1}. Best is trial 3 with value: 0.6703783079665433.\n"
          ]
        },
        {
          "name": "stdout",
          "output_type": "stream",
          "text": [
            "Test F1: 38.01%, test_acc: 71.66%, best learning rate: 0.0001, best weight decay: 1e-05, best dropout rate: 0.1\n"
          ]
        }
      ],
      "source": [
        "learning_rate_choices = [0.00001, 0.0001, 0.001, 0.01]\n",
        "dropout_rate_choices = [0.1, 0.3, 0.5, 0.7, 0.9]\n",
        "weight_decay_choices = [0.0001, 0.001, 0.01, 0.1, 0.00001]\n",
        "\n",
        "epoch = 50\n",
        "results = []\n",
        "\n",
        "def objective(trial):\n",
        "    activation=nn.ReLU\n",
        "    learning_rate = trial.suggest_categorical('learning_rate', learning_rate_choices)\n",
        "    weight_decay = trial.suggest_categorical('weight_decay', weight_decay_choices)\n",
        "    dropout_rate = trial.suggest_categorical('dropout_rate', dropout_rate_choices)\n",
        "\n",
        "    set_seeds(seed)\n",
        "    CNN_pool_pad_model = CNN_pool_pad(CNN_pool_pad_out_dim,activation, dropout_rate)\n",
        "    CNN_pool_pad_model.to(device)\n",
        "    optimizer = optim.Adam(CNN_pool_pad_model.parameters(), lr=CNN_pool_pad_lr, weight_decay=weight_decay)\n",
        "    train_loss_list, train_acc_list, valid_loss_list, valid_acc_list, valid_f1_list = train_eval_CNN(\n",
        "        CNN_pool_pad_model, epoch, optimizer, CNN_pool_pad_criterion, train_melgs_dataloader, val_melgs_dataloader, [], False, None)\n",
        "\n",
        "\n",
        "    return valid_f1_list[-1]\n",
        "\n",
        "study = optuna.create_study(direction='maximize')\n",
        "study.optimize(objective, n_trials=7)\n",
        "\n",
        "# Access the best hyperparameters and evaluation score\n",
        "best_params = study.best_params\n",
        "\n",
        "#train the model with best hyperparamters and the current optimizer\n",
        "set_seeds(seed)\n",
        "activation=nn.ReLU\n",
        "CNN_pool_pad_model = CNN_pool_pad(CNN_pool_pad_out_dim,activation, best_params['dropout_rate'])\n",
        "CNN_pool_pad_model.to(device)\n",
        "optimizer = optim.Adam(CNN_pool_pad_model.parameters(), lr=best_params['learning_rate'], weight_decay=best_params['weight_decay'])\n",
        "for i in range(epoch):\n",
        "  train_CNN(CNN_pool_pad_model, train_melgs_dataloader, optimizer, CNN_pool_pad_criterion)\n",
        "\n",
        "#get accuracy, f1 score on test dataset\n",
        "test_loss, test_acc, test_f1 = evaluate_CNN(CNN_pool_pad_model, test_melgs_dataloader, CNN_pool_pad_criterion)\n",
        "test_acc = \"{:.2f}\".format(test_acc*100) + '%'\n",
        "test_f1 = \"{:.2f}\".format(test_f1*100) + '%'\n",
        "print(f\"Test F1: {test_f1}, test_acc: {test_acc}, best learning rate: {best_params['learning_rate']}, best weight decay: {best_params['weight_decay']}, best dropout rate: {best_params['dropout_rate']}\")"
      ]
    },
    {
      "cell_type": "markdown",
      "metadata": {
        "id": "Dqmbs9ECMbaI"
      },
      "source": [
        "Combining weight decay and dropout in experimentation allows for stronger regularization, better control over model complexity, and improved generalization performance"
      ]
    },
    {
      "cell_type": "markdown",
      "metadata": {
        "id": "qa5N8-2DK6IB"
      },
      "source": [
        "### Training efficiency"
      ]
    },
    {
      "cell_type": "markdown",
      "metadata": {
        "id": "Y36MNFttEGEj"
      },
      "source": [
        "Experimenting with batch size"
      ]
    },
    {
      "cell_type": "code",
      "execution_count": 67,
      "metadata": {
        "colab": {
          "base_uri": "https://localhost:8080/"
        },
        "id": "LKTPPbX0EISP",
        "outputId": "4f9bc2e9-d228-41f0-dc94-556a9954fae2"
      },
      "outputs": [
        {
          "name": "stdout",
          "output_type": "stream",
          "text": [
            "Batch_size: 1, Total time: 210.469 secs, Test Loss: 0.742 |  Test Acc: 68.53% | Test F1: 68.53%\n",
            "\n",
            "Batch_size: 2, Total time: 107.017 secs, Test Loss: 0.797 |  Test Acc: 64.90% | Test F1: 59.88%\n",
            "\n",
            "Batch_size: 4, Total time: 55.821 secs, Test Loss: 0.826 |  Test Acc: 64.10% | Test F1: 50.83%\n",
            "\n",
            "Batch_size: 8, Total time: 31.001 secs, Test Loss: 0.908 |  Test Acc: 60.54% | Test F1: 37.84%\n",
            "\n",
            "Batch_size: 16, Total time: 16.807 secs, Test Loss: 0.974 |  Test Acc: 52.54% | Test F1: 31.82%\n",
            "\n",
            "Batch_size: 32, Total time: 11.274 secs, Test Loss: 1.041 |  Test Acc: 47.75% | Test F1: 23.87%\n",
            "\n",
            "Batch_size: 64, Total time: 8.648 secs, Test Loss: 1.087 |  Test Acc: 45.95% | Test F1: 18.58%\n",
            "\n"
          ]
        }
      ],
      "source": [
        "batch_size_choices = [2 ** i for i in range(7)]\n",
        "CNN_pool_pad_out_dim = 4\n",
        "CNN_pool_pad_n_epochs = 10\n",
        "\n",
        "for batch_size in batch_size_choices:\n",
        "  num_workers = 1  #for reproducability\n",
        "  test_melgs_dataloader = DataLoader(test_melgs_dataset, batch_size=batch_size, shuffle=False, num_workers=num_workers)\n",
        "  train_melgs_dataloader = DataLoader(train_melgs_dataset, batch_size=batch_size, shuffle=True, num_workers=num_workers)\n",
        "  val_melgs_dataloader = DataLoader(val_melgs_dataset, batch_size=batch_size, shuffle=True, num_workers=num_workers)\n",
        "\n",
        "  set_seeds(seed)\n",
        "  CNN_pool_pad_model = CNN_pool_pad(CNN_pool_pad_out_dim,nn.ReLU)\n",
        "  CNN_pool_pad_model.to(device)\n",
        "  CNN_pool_pad_criterion = nn.CrossEntropyLoss()\n",
        "  CNN_pool_pad_lr=0.00001\n",
        "  CNN_pool_pad_optimizer = optim.Adam(CNN_pool_pad_model.parameters(), lr=CNN_pool_pad_lr)\n",
        "\n",
        "  start_time = time.time()\n",
        "  train_loss_list_CNN_pool_pad, train_acc_list_CNN_pool_pad, valid_loss_list_CNN_pool_pad, valid_acc_list_CNN_pool_pad, valid_f1_list_CNN_pool_pad = train_eval_CNN(\n",
        "        CNN_pool_pad_model, CNN_pool_pad_n_epochs, CNN_pool_pad_optimizer, CNN_pool_pad_criterion, train_melgs_dataloader, val_melgs_dataloader,[],False,None\n",
        "    )\n",
        "  end_time = time.time()\n",
        "  total_time = end_time-start_time\n",
        "  total_time = \"{:.3f}\".format(total_time)\n",
        "\n",
        "\n",
        "  test_loss, test_acc, test_f1 = evaluate_CNN(CNN_pool_pad_model, test_melgs_dataloader, CNN_pool_pad_criterion)\n",
        "  print(f'Batch_size: {batch_size}, Total time: {total_time} secs, Test Loss: {test_loss:.3f} |  Test Acc: {test_acc*100:.2f}% | Test F1: {test_f1*100:.2f}%\\n')"
      ]
    },
    {
      "cell_type": "markdown",
      "metadata": {
        "id": "rPyTFHfkSoKp"
      },
      "source": [
        "The results indicate that smaller batch sizes lead to better performance in terms of accuracy, F1 score, and loss. However, it's important to consider the trade-off between model performance and training time, as smaller batch sizes require more iterations to process the entire dataset."
      ]
    },
    {
      "cell_type": "markdown",
      "metadata": {
        "id": "h7OQzldGGcIv"
      },
      "source": [
        "Early stopping"
      ]
    },
    {
      "cell_type": "code",
      "execution_count": 79,
      "metadata": {
        "id": "5yP4TGfEGd7g"
      },
      "outputs": [],
      "source": [
        "#train the model on the training dataloader\n",
        "#evaluates the model on the validation dataloader\n",
        "#returns lists of train loss and accuracy and valid loss, accuracy and f1 score\n",
        "def train_eval_CNN_early_stop(model, epochs, optimizer, criterion, train_dataloader, validation_dataloader, classes=[], print_res=True,patience=None):\n",
        "  train_loss_list = []\n",
        "  train_acc_list = []\n",
        "  valid_loss_list = []\n",
        "  valid_acc_list = []\n",
        "  valid_f1_list = []\n",
        "  best_valid_f1 = -1\n",
        "  no_improvement_cnt = 0\n",
        "\n",
        "  for epoch in range(epochs):\n",
        "    if print_res:\n",
        "      print(f'Epoch: {epoch+1:02}')\n",
        "\n",
        "\n",
        "    train_loss, train_acc = train_CNN(model, train_dataloader, optimizer, criterion)\n",
        "    valid_loss, valid_acc, valid_f1 = evaluate_CNN(model, validation_dataloader, criterion)\n",
        "\n",
        "    train_loss_list.append(train_loss)\n",
        "    train_acc_list.append(train_acc)\n",
        "    valid_loss_list.append(valid_loss)\n",
        "    valid_acc_list.append(valid_acc)\n",
        "    valid_f1_list.append(valid_f1)\n",
        "\n",
        "    if print_res:\n",
        "      print(f'\\tTrain Loss: {train_loss:.3f} | Train Acc: {train_acc*100:.2f}%')\n",
        "      print(f'\\t Val. Loss: {valid_loss:.3f} |  Val. Acc: {valid_acc*100:.2f}% | Val. F1: {valid_f1*100:.2f}%')\n",
        "\n",
        "    if patience is not None:\n",
        "      if valid_f1 > best_valid_f1:\n",
        "          best_valid_f1 = valid_f1\n",
        "          no_improvement_cnt = 0\n",
        "      else:\n",
        "          no_improvement_cnt += 1\n",
        "          if no_improvement_cnt >= patience:\n",
        "              print(f'No improvement in validation loss for {patience} epochs. Training terminated.')\n",
        "              break\n",
        "\n",
        "  return train_loss_list, train_acc_list, valid_loss_list, valid_acc_list, valid_f1_list, epoch"
      ]
    },
    {
      "cell_type": "code",
      "execution_count": 80,
      "metadata": {
        "colab": {
          "base_uri": "https://localhost:8080/"
        },
        "id": "UGAV6PYQIxH2",
        "outputId": "c970ed17-c21d-40b1-9117-6249bc66331e"
      },
      "outputs": [
        {
          "name": "stdout",
          "output_type": "stream",
          "text": [
            "No improvement in validation loss for 3 epochs. Training terminated.\n",
            "Patience: 3, Total time: 12.417 secs, Last epoch: 6, Test Loss: 1.047 |  Test Acc: 47.82% | Test F1: 31.55%\n",
            "\n",
            "No improvement in validation loss for 5 epochs. Training terminated.\n",
            "Patience: 5, Total time: 31.074 secs, Last epoch: 17, Test Loss: 0.842 |  Test Acc: 61.92% | Test F1: 36.85%\n",
            "\n",
            "No improvement in validation loss for 7 epochs. Training terminated.\n",
            "Patience: 7, Total time: 89.242 secs, Last epoch: 48, Test Loss: 0.708 |  Test Acc: 71.80% | Test F1: 39.32%\n",
            "\n",
            "Patience: 10, Total time: 86.735 secs, Last epoch: 49, Test Loss: 0.700 |  Test Acc: 72.24% | Test F1: 40.04%\n",
            "\n"
          ]
        }
      ],
      "source": [
        "patience_choices = [3,5,7,10]\n",
        "batch_size = 16\n",
        "CNN_pool_pad_out_dim = 4\n",
        "CNN_pool_pad_n_epochs = 50\n",
        "\n",
        "for patience in patience_choices:\n",
        "    num_workers = 1  #for reproducability\n",
        "    test_melgs_dataloader = DataLoader(test_melgs_dataset, batch_size=batch_size, shuffle=False, num_workers=num_workers)\n",
        "    train_melgs_dataloader = DataLoader(train_melgs_dataset, batch_size=batch_size, shuffle=True, num_workers=num_workers)\n",
        "    val_melgs_dataloader = DataLoader(val_melgs_dataset, batch_size=batch_size, shuffle=True, num_workers=num_workers)\n",
        "\n",
        "    set_seeds(seed)\n",
        "    CNN_pool_pad_model = CNN_pool_pad(CNN_pool_pad_out_dim,nn.ReLU)\n",
        "    CNN_pool_pad_model.to(device)\n",
        "    CNN_pool_pad_criterion = nn.CrossEntropyLoss()\n",
        "    CNN_pool_pad_lr=0.00001\n",
        "    CNN_pool_pad_optimizer = optim.Adam(CNN_pool_pad_model.parameters(), lr=CNN_pool_pad_lr)\n",
        "\n",
        "    start_time = time.time()\n",
        "    train_loss_list_CNN_pool_pad, train_acc_list_CNN_pool_pad, valid_loss_list_CNN_pool_pad, valid_acc_list_CNN_pool_pad, valid_f1_list_CNN_pool_pad, final_epoch = train_eval_CNN_early_stop(\n",
        "          CNN_pool_pad_model, CNN_pool_pad_n_epochs, CNN_pool_pad_optimizer, CNN_pool_pad_criterion, train_melgs_dataloader, val_melgs_dataloader,[],False,patience=patience\n",
        "      )\n",
        "    end_time = time.time()\n",
        "    total_time = end_time-start_time\n",
        "    total_time = \"{:.3f}\".format(total_time)\n",
        "\n",
        "    test_loss, test_acc, test_f1 = evaluate_CNN(CNN_pool_pad_model, test_melgs_dataloader, CNN_pool_pad_criterion)\n",
        "    print(f'Patience: {patience}, Total time: {total_time} secs, Last epoch: {final_epoch}, Test Loss: {test_loss:.3f} |  Test Acc: {test_acc*100:.2f}% | Test F1: {test_f1*100:.2f}%\\n')"
      ]
    },
    {
      "cell_type": "markdown",
      "metadata": {
        "id": "hi_NPzyeWNtq"
      },
      "source": [
        "The results highlight the importance of the patience parameter in early stopping. It allows training to be terminated if the model's performance does not improve over a specified number of epochs. By adjusting the patience value, we observe a balance between training time and achieving the best possible performance."
      ]
    }
  ],
  "metadata": {
    "accelerator": "GPU",
    "colab": {
      "gpuType": "T4",
      "provenance": [],
      "toc_visible": true
    },
    "kernelspec": {
      "display_name": "Python 3",
      "name": "python3"
    },
    "language_info": {
      "name": "python"
    }
  },
  "nbformat": 4,
  "nbformat_minor": 0
}
